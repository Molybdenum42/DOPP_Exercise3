{
 "cells": [
  {
   "cell_type": "code",
   "execution_count": 126,
   "metadata": {
    "collapsed": true
   },
   "outputs": [],
   "source": [
    "import pandas as pd\n",
    "import numpy as np\n",
    "import pyreadstat\n",
    "import matplotlib.pyplot as plt\n",
    "import seaborn as sns"
   ]
  },
  {
   "cell_type": "code",
   "execution_count": 35,
   "outputs": [],
   "source": [
    "# the integrated values survey was created using the provided merge syntax and IBM SPSS\n",
    "df, meta = pyreadstat.read_sav(\"Integrated_values_surveys_1981-2021.sav\", encoding=\"cp850\")"
   ],
   "metadata": {
    "collapsed": false,
    "pycharm": {
     "name": "#%%\n"
    }
   }
  },
  {
   "cell_type": "code",
   "execution_count": 74,
   "outputs": [
    {
     "data": {
      "text/plain": "<Figure size 432x288 with 1 Axes>",
      "image/png": "[encoded data removed]"
     },
     "metadata": {
      "needs_background": "light"
     },
     "output_type": "display_data"
    }
   ],
   "source": [
    "(df[\"S020\"].astype(int)//5 * 5).value_counts().sort_index(ascending=False).plot.barh()\n",
    "plt.title(\"Number of Survey Responses per 5-Year Interval\")\n",
    "plt.savefig(\"plots/number_of_responses_per_five_years.png\")\n",
    "# pd.to_datetime(df[\"S012\"], format=\"%Y%M%d\")"
   ],
   "metadata": {
    "collapsed": false,
    "pycharm": {
     "name": "#%%\n"
    }
   }
  },
  {
   "cell_type": "code",
   "execution_count": 81,
   "outputs": [
    {
     "name": "stderr",
     "output_type": "stream",
     "text": [
      "<ipython-input-81-9b769c8925a7>:4: SettingWithCopyWarning: \n",
      "A value is trying to be set on a copy of a slice from a DataFrame\n",
      "\n",
      "See the caveats in the documentation: https://pandas.pydata.org/pandas-docs/stable/user_guide/indexing.html#returning-a-view-versus-a-copy\n",
      "  df[\"year\"][df[\"year\"] == 1985] = 1980\n"
     ]
    },
    {
     "data": {
      "text/plain": "1980    2338.0\n1985       NaN\n1990       0.0\n1995       0.0\n2000       0.0\n2005       0.0\n2010       0.0\n2015       0.0\n2020       0.0\ndtype: float64"
     },
     "execution_count": 81,
     "metadata": {},
     "output_type": "execute_result"
    }
   ],
   "source": [
    "# since the 1985 inteval has so few responses, it is combined with the 1980 one.\n",
    "df[\"year\"] = (df[\"S020\"].astype(int)//5 * 5)\n",
    "df[\"year\"][df[\"year\"] == 1985] = 1980"
   ],
   "metadata": {
    "collapsed": false,
    "pycharm": {
     "name": "#%%\n"
    }
   }
  },
  {
   "cell_type": "code",
   "execution_count": 116,
   "outputs": [],
   "source": [
    "iso_codes = pd.read_csv(\"iso country codes/iso3166.tsv\", sep=\"\\t\")\n",
    "iso_codes[\"Numeric\"] = iso_codes[\"Numeric\"].fillna(0).astype(int)\n",
    "alpha2_to_alpha3 = iso_codes.set_index(\"Alpha-2 code\")[\"Alpha-3 code\"].to_dict()\n",
    "\n",
    "def map_codes(alpha2val):\n",
    "    if alpha2val in alpha2_to_alpha3:\n",
    "        return alpha2_to_alpha3[alpha2val]\n",
    "    else:\n",
    "        return \"invalid\"\n",
    "\n",
    "df[\"country\"] = df[\"S009\"].apply(map_codes)"
   ],
   "metadata": {
    "collapsed": false,
    "pycharm": {
     "name": "#%%\n"
    }
   }
  },
  {
   "cell_type": "code",
   "execution_count": 153,
   "outputs": [
    {
     "name": "stdout",
     "output_type": "stream",
     "text": [
      "year\n",
      "1980    0.048422\n",
      "1990    0.030489\n",
      "1995    0.037696\n",
      "2000    0.019819\n",
      "2005    0.036360\n",
      "2010    0.000000\n",
      "2015    0.015988\n",
      "2020    0.000000\n",
      "dtype: float64\n",
      "year  1980  1990  1995  2000  2005  2010  2015  2020\n",
      "AUT      0  1460  1522     0  1510     0  1644     0\n",
      "DEU   1305  3437  4062     0  4139  2046  3698     0\n",
      "SWE    954  1047  2024     0  2190  1206  1194     0\n",
      "FRA   1200  1002  1615     0  2502     0  1870     0\n",
      "RUS      0  1961  4540     0  3537  2500  3635     0\n",
      "TUR      0  1030  1907  4607  3730  1605  2415     0\n",
      "CHN      0  1000  1500  1000  1991  2300  3036     0\n",
      "IND      0  2500  2040  2002  2001  4078     0     0\n",
      "JPN   1204  1011  1054  1362  1096  2443  1353     0\n",
      "IRN      0     0     0  2532  2667     0     0  1499\n",
      "USA   2325  1839  2742     0  1249  2232  2596     0\n",
      "BRA      0  1782  1143     0  1500  1486  1762     0\n",
      "CAN   1254  1730     0  1931  2164     0     0  4018\n",
      "MEX   1837  1531  1510  1535  1560  2000  1739     0\n"
     ]
    }
   ],
   "source": [
    "responses_per_country_per_interval = df[\"country\"].groupby(df[\"year\"]).apply(lambda x: x.value_counts().sort_values()).unstack(level=0).fillna(0).astype(int)\n",
    "\n",
    "share_of_invalid_responses = responses_per_country_per_interval.loc[\"invalid\"] / responses_per_country_per_interval.iloc[:-1].sum()\n",
    "print(share_of_invalid_responses)\n",
    "\n",
    "print(responses_per_country_per_interval.loc[[\"AUT\", \"DEU\", \"SWE\", \"FRA\", \"RUS\", \"TUR\", \"CHN\", \"IND\", \"JPN\", \"IRN\", \"USA\", \"BRA\", \"CAN\", \"MEX\"]])\n",
    "\n",
    "# the share of responses from unrecognized (as per ISO-3166) countries per time-interval is fairly small.\n",
    "# Looking at a small sample size of potentially interesting countries, none are present in all time-intervals.\n",
    "# This indicates potential issues with continuity in the data."
   ],
   "metadata": {
    "collapsed": false,
    "pycharm": {
     "name": "#%%\n"
    }
   }
  },
  {
   "cell_type": "code",
   "execution_count": 164,
   "outputs": [
    {
     "data": {
      "text/plain": "year         1980      1990      1995      2000      2005      2010      2015  \\\nA001     0.200329  0.003055  0.010337  0.009164  0.024444  0.002212  0.001854   \nA002     0.200356  0.003608  0.013270  0.011463  0.026797  0.003554  0.002677   \nA003     0.200525  0.006844  0.019130  0.014700  0.032596  0.006891  0.004599   \nA004     0.200821  0.009076  0.021955  0.019676  0.039319  0.010802  0.008827   \nA005     0.200713  0.005287  0.016999  0.013142  0.035691  0.010169  0.008260   \nA006     0.202777  0.008793  0.023115  0.013291  0.036709  0.008948  0.008065   \nA010     0.137342  0.195198  0.796886  0.416369  1.000000  0.590482  0.766165   \nA165     0.017188  0.021571  0.031261  0.015664  0.058988  0.015907  0.013628   \nB008     0.215932  0.407502  0.351872  0.074760  0.509484  0.043715  0.048044   \nD059     0.215932  0.407502  0.322924  0.052980  0.473132  0.027633  0.024929   \nD060     0.215932  0.407502  0.309290  0.044376  0.464670  0.017491  0.013466   \nE069_04  0.013479  0.006433  0.041834  0.052697  0.053081  0.018435  0.016574   \nE069_11  0.215932  0.338804  0.318932  0.070263  0.071995  0.021099  0.028462   \nE069_14  0.215932  0.407502  0.339040  0.112791  0.108340  0.050553  0.050620   \nE235     0.215932  0.407502  0.796886  0.416369  0.494150  0.014673  0.015145   \nF034     0.026925  0.037559  0.092926  0.044565  0.042818  0.030984  0.025266   \nG006     0.011429  0.016426  0.058233  0.010162  0.062933  0.016150  0.033533   \n\nyear         2020  \nA001     0.000418  \nA002     0.000634  \nA003     0.000856  \nA004     0.001591  \nA005     0.001173  \nA006     0.001773  \nA010     0.157605  \nA165     0.001740  \nB008     0.007242  \nD059     0.003790  \nD060     0.002178  \nE069_04  0.004255  \nE069_11  0.002562  \nE069_14  0.008543  \nE235     0.002414  \nF034     0.003048  \nG006     0.004208  ",
      "text/html": "<div>\n<style scoped>\n    .dataframe tbody tr th:only-of-type {\n        vertical-align: middle;\n    }\n\n    .dataframe tbody tr th {\n        vertical-align: top;\n    }\n\n    .dataframe thead th {\n        text-align: right;\n    }\n</style>\n<table border=\"1\" class=\"dataframe\">\n  <thead>\n    <tr style=\"text-align: right;\">\n      <th>year</th>\n      <th>1980</th>\n      <th>1990</th>\n      <th>1995</th>\n      <th>2000</th>\n      <th>2005</th>\n      <th>2010</th>\n      <th>2015</th>\n      <th>2020</th>\n    </tr>\n  </thead>\n  <tbody>\n    <tr>\n      <th>A001</th>\n      <td>0.200329</td>\n      <td>0.003055</td>\n      <td>0.010337</td>\n      <td>0.009164</td>\n      <td>0.024444</td>\n      <td>0.002212</td>\n      <td>0.001854</td>\n      <td>0.000418</td>\n    </tr>\n    <tr>\n      <th>A002</th>\n      <td>0.200356</td>\n      <td>0.003608</td>\n      <td>0.013270</td>\n      <td>0.011463</td>\n      <td>0.026797</td>\n      <td>0.003554</td>\n      <td>0.002677</td>\n      <td>0.000634</td>\n    </tr>\n    <tr>\n      <th>A003</th>\n      <td>0.200525</td>\n      <td>0.006844</td>\n      <td>0.019130</td>\n      <td>0.014700</td>\n      <td>0.032596</td>\n      <td>0.006891</td>\n      <td>0.004599</td>\n      <td>0.000856</td>\n    </tr>\n    <tr>\n      <th>A004</th>\n      <td>0.200821</td>\n      <td>0.009076</td>\n      <td>0.021955</td>\n      <td>0.019676</td>\n      <td>0.039319</td>\n      <td>0.010802</td>\n      <td>0.008827</td>\n      <td>0.001591</td>\n    </tr>\n    <tr>\n      <th>A005</th>\n      <td>0.200713</td>\n      <td>0.005287</td>\n      <td>0.016999</td>\n      <td>0.013142</td>\n      <td>0.035691</td>\n      <td>0.010169</td>\n      <td>0.008260</td>\n      <td>0.001173</td>\n    </tr>\n    <tr>\n      <th>A006</th>\n      <td>0.202777</td>\n      <td>0.008793</td>\n      <td>0.023115</td>\n      <td>0.013291</td>\n      <td>0.036709</td>\n      <td>0.008948</td>\n      <td>0.008065</td>\n      <td>0.001773</td>\n    </tr>\n    <tr>\n      <th>A010</th>\n      <td>0.137342</td>\n      <td>0.195198</td>\n      <td>0.796886</td>\n      <td>0.416369</td>\n      <td>1.000000</td>\n      <td>0.590482</td>\n      <td>0.766165</td>\n      <td>0.157605</td>\n    </tr>\n    <tr>\n      <th>A165</th>\n      <td>0.017188</td>\n      <td>0.021571</td>\n      <td>0.031261</td>\n      <td>0.015664</td>\n      <td>0.058988</td>\n      <td>0.015907</td>\n      <td>0.013628</td>\n      <td>0.001740</td>\n    </tr>\n    <tr>\n      <th>B008</th>\n      <td>0.215932</td>\n      <td>0.407502</td>\n      <td>0.351872</td>\n      <td>0.074760</td>\n      <td>0.509484</td>\n      <td>0.043715</td>\n      <td>0.048044</td>\n      <td>0.007242</td>\n    </tr>\n    <tr>\n      <th>D059</th>\n      <td>0.215932</td>\n      <td>0.407502</td>\n      <td>0.322924</td>\n      <td>0.052980</td>\n      <td>0.473132</td>\n      <td>0.027633</td>\n      <td>0.024929</td>\n      <td>0.003790</td>\n    </tr>\n    <tr>\n      <th>D060</th>\n      <td>0.215932</td>\n      <td>0.407502</td>\n      <td>0.309290</td>\n      <td>0.044376</td>\n      <td>0.464670</td>\n      <td>0.017491</td>\n      <td>0.013466</td>\n      <td>0.002178</td>\n    </tr>\n    <tr>\n      <th>E069_04</th>\n      <td>0.013479</td>\n      <td>0.006433</td>\n      <td>0.041834</td>\n      <td>0.052697</td>\n      <td>0.053081</td>\n      <td>0.018435</td>\n      <td>0.016574</td>\n      <td>0.004255</td>\n    </tr>\n    <tr>\n      <th>E069_11</th>\n      <td>0.215932</td>\n      <td>0.338804</td>\n      <td>0.318932</td>\n      <td>0.070263</td>\n      <td>0.071995</td>\n      <td>0.021099</td>\n      <td>0.028462</td>\n      <td>0.002562</td>\n    </tr>\n    <tr>\n      <th>E069_14</th>\n      <td>0.215932</td>\n      <td>0.407502</td>\n      <td>0.339040</td>\n      <td>0.112791</td>\n      <td>0.108340</td>\n      <td>0.050553</td>\n      <td>0.050620</td>\n      <td>0.008543</td>\n    </tr>\n    <tr>\n      <th>E235</th>\n      <td>0.215932</td>\n      <td>0.407502</td>\n      <td>0.796886</td>\n      <td>0.416369</td>\n      <td>0.494150</td>\n      <td>0.014673</td>\n      <td>0.015145</td>\n      <td>0.002414</td>\n    </tr>\n    <tr>\n      <th>F034</th>\n      <td>0.026925</td>\n      <td>0.037559</td>\n      <td>0.092926</td>\n      <td>0.044565</td>\n      <td>0.042818</td>\n      <td>0.030984</td>\n      <td>0.025266</td>\n      <td>0.003048</td>\n    </tr>\n    <tr>\n      <th>G006</th>\n      <td>0.011429</td>\n      <td>0.016426</td>\n      <td>0.058233</td>\n      <td>0.010162</td>\n      <td>0.062933</td>\n      <td>0.016150</td>\n      <td>0.033533</td>\n      <td>0.004208</td>\n    </tr>\n  </tbody>\n</table>\n</div>"
     },
     "execution_count": 164,
     "metadata": {},
     "output_type": "execute_result"
    }
   ],
   "source": [
    "interesting_questions = [\"A001\", # family\n",
    "                         \"A002\", # friends\n",
    "                         \"A003\", # leisure time\n",
    "                         \"A004\", # politics\n",
    "                         \"A005\", # work\n",
    "                         \"A006\", # religion\n",
    "                         \"A010\", # happiness\n",
    "                         \"A165\", # most people can be trusted\n",
    "                         \"B008\", # protecting environment vs econ growth\n",
    "                         \"D059\", \"D060\", # sexism\n",
    "                         \"E069_04\", # confidence in press\n",
    "                         \"E069_11\", # confidence in government\n",
    "                         \"E069_14\", # confidence in environmental protection movement\n",
    "                         \"E235\", # importance of democracy\n",
    "                         \"F034\", # religious person (maybe redundant with A006)\n",
    "                         \"G006\", # proud of nationality\n",
    "                         ]\n",
    "# share of non-responses\n",
    "by_interval = df[interesting_questions].applymap(lambda x: x if x > 0 else np.nan).isna().groupby(df[\"year\"])\n",
    "non_responses = (by_interval.sum() / by_interval.count().max()).T\n",
    "non_responses\n",
    "# most questions have fairly high rates of non-responses in the 1980 interval.\n",
    "# notable exceptions are A165 (general trust) and F034 (religious person).\n",
    "# other questions undergo large fluctuations\n",
    "# Overall, A001-A006, A165, E069_04, F034 and G006 seem like the most reliable values"
   ],
   "metadata": {
    "collapsed": false,
    "pycharm": {
     "name": "#%%\n"
    }
   }
  }
 ],
 "metadata": {
  "kernelspec": {
   "display_name": "Python 3",
   "language": "python",
   "name": "python3"
  },
  "language_info": {
   "codemirror_mode": {
    "name": "ipython",
    "version": 2
   },
   "file_extension": ".py",
   "mimetype": "text/x-python",
   "name": "python",
   "nbconvert_exporter": "python",
   "pygments_lexer": "ipython2",
   "version": "2.7.6"
  }
 },
 "nbformat": 4,
 "nbformat_minor": 0
}