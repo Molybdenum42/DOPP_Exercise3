{
 "cells": [
  {
   "cell_type": "markdown",
   "metadata": {
    "collapsed": true,
    "pycharm": {
     "name": "#%% md\n"
    }
   },
   "source": [
    "## Exercise 3 in Data-Oriented Programming Paradigms - Group 42\n",
    "# On the Evolution of Nuclear Energy Use"
   ]
  },
  {
   "cell_type": "markdown",
   "source": [
    "Structure:\n",
    "\n",
    "* Which questions are we trying to answer\n",
    "* Datasets, what is in them, why we chose them\n",
    "* Data processing & exploration\n",
    "* q1\n",
    "* q2\n",
    "* q3\n",
    "* q4\n",
    "* conclusions\n",
    "* discussion on problems with data & biases, tools & techniques learned, work division\n",
    "\n",
    "Everything should run in this notebook, using the folder structure within this directory"
   ],
   "metadata": {
    "collapsed": false,
    "pycharm": {
     "name": "#%% md\n"
    }
   }
  }
 ],
 "metadata": {
  "kernelspec": {
   "display_name": "Python 3",
   "language": "python",
   "name": "python3"
  },
  "language_info": {
   "codemirror_mode": {
    "name": "ipython",
    "version": 2
   },
   "file_extension": ".py",
   "mimetype": "text/x-python",
   "name": "python",
   "nbconvert_exporter": "python",
   "pygments_lexer": "ipython2",
   "version": "2.7.6"
  }
 },
 "nbformat": 4,
 "nbformat_minor": 0
}