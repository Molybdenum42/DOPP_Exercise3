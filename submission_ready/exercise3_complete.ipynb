{
  "nbformat": 4,
  "nbformat_minor": 0,
  "metadata": {
    "colab": {
      "name": "exercise3_complete",
      "provenance": [],
      "collapsed_sections": [
        "V4agah-JreGn"
      ]
    },
    "kernelspec": {
      "name": "python3",
      "display_name": "Python 3"
    },
    "language_info": {
      "name": "python"
    }
  },
  "cells": [
    {
      "cell_type": "markdown",
      "source": [
        "\n",
        "## Exercise 3 in Data-Oriented Programming Paradigms - Group 42\n",
        "# On the Evolution of Nuclear Energy Use\n",
        "\n",
        "\n",
        "Structure:\n",
        "\n",
        "* Overview of version + modules required to run\n",
        "* Which questions are we trying to answer\n",
        "* Datasets, what is in them, why we chose them\n",
        "* Data processing & exploration\n",
        "* q1\n",
        "* q2\n",
        "* q3\n",
        "* q4\n",
        "* conclusions\n",
        "* discussion on problems with data & biases, tools & techniques learned, work division\n",
        "\n",
        "Everything should run in this notebook, using the folder structure within this directory\n"
      ],
      "metadata": {
        "id": "aZQlmcfkWDGP"
      }
    },
    {
      "cell_type": "code",
      "source": [
        "# installing neceessary modules\n",
        "!pip install pyreadstat"
      ],
      "metadata": {
        "colab": {
          "base_uri": "https://localhost:8080/",
          "height": 438
        },
        "id": "Ivi2L5MhuBk5",
        "outputId": "468bc0d2-a874-4fa7-ce1b-2750e0e38305"
      },
      "execution_count": null,
      "outputs": [
        {
          "output_type": "stream",
          "name": "stdout",
          "text": [
            "Collecting pyreadstat\n",
            "  Downloading pyreadstat-1.1.4-cp37-cp37m-manylinux_2_17_x86_64.manylinux2014_x86_64.whl (2.4 MB)\n",
            "\u001b[K     |████████████████████████████████| 2.4 MB 5.3 MB/s \n",
            "\u001b[?25hCollecting pandas>=1.2.0\n",
            "  Downloading pandas-1.3.5-cp37-cp37m-manylinux_2_17_x86_64.manylinux2014_x86_64.whl (11.3 MB)\n",
            "\u001b[K     |████████████████████████████████| 11.3 MB 23.6 MB/s \n",
            "\u001b[?25hRequirement already satisfied: pytz>=2017.3 in /usr/local/lib/python3.7/dist-packages (from pandas>=1.2.0->pyreadstat) (2018.9)\n",
            "Requirement already satisfied: numpy>=1.17.3 in /usr/local/lib/python3.7/dist-packages (from pandas>=1.2.0->pyreadstat) (1.19.5)\n",
            "Requirement already satisfied: python-dateutil>=2.7.3 in /usr/local/lib/python3.7/dist-packages (from pandas>=1.2.0->pyreadstat) (2.8.2)\n",
            "Requirement already satisfied: six>=1.5 in /usr/local/lib/python3.7/dist-packages (from python-dateutil>=2.7.3->pandas>=1.2.0->pyreadstat) (1.15.0)\n",
            "Installing collected packages: pandas, pyreadstat\n",
            "  Attempting uninstall: pandas\n",
            "    Found existing installation: pandas 1.1.5\n",
            "    Uninstalling pandas-1.1.5:\n",
            "      Successfully uninstalled pandas-1.1.5\n",
            "\u001b[31mERROR: pip's dependency resolver does not currently take into account all the packages that are installed. This behaviour is the source of the following dependency conflicts.\n",
            "google-colab 1.0.0 requires pandas~=1.1.0; python_version >= \"3.0\", but you have pandas 1.3.5 which is incompatible.\u001b[0m\n",
            "Successfully installed pandas-1.3.5 pyreadstat-1.1.4\n"
          ]
        },
        {
          "output_type": "display_data",
          "data": {
            "application/vnd.colab-display-data+json": {
              "pip_warning": {
                "packages": [
                  "pandas"
                ]
              }
            }
          },
          "metadata": {}
        }
      ]
    },
    {
      "cell_type": "code",
      "source": [
        "# imports\n",
        "\n",
        "import pandas as pd\n",
        "import numpy as np\n",
        "import pyreadstat\n",
        "import matplotlib.pyplot as plt"
      ],
      "metadata": {
        "id": "s0h63rGRYiz8"
      },
      "execution_count": null,
      "outputs": []
    },
    {
      "cell_type": "markdown",
      "source": [
        "## Data\n"
      ],
      "metadata": {
        "id": "PPu5_ixyVoaG"
      }
    },
    {
      "cell_type": "markdown",
      "source": [
        "### Our World in Data - Energy Dataset\n",
        "\n",
        "Our World in Data is a fantastic resource for datasets of this kind. The data is thoroughly documented, provided in several common formats including simple CSV files, and updated regularly. As such, it is a natural fit to form the backbone of this project. The source data can be found here: https://github.com/owid/energy-data\n",
        "\n",
        "It should be noted that it is unclear how complete this data is for countries with unreliable reporting, such as China. For the most part however the data seems fairly complete for most major countries of interest in regards to nuclear energy use."
      ],
      "metadata": {
        "id": "xvERCVgyVrP1"
      }
    },
    {
      "cell_type": "code",
      "source": [
        "df_energy = pd.read_csv(\"data/OWID_energy/owid-energy-data.csv\")\n"
      ],
      "metadata": {
        "id": "LKVorKc3biE2"
      },
      "execution_count": null,
      "outputs": []
    },
    {
      "cell_type": "code",
      "source": [
        "# further preprocessing as needed by other parts"
      ],
      "metadata": {
        "id": "BX0_XTwyecLc"
      },
      "execution_count": null,
      "outputs": []
    },
    {
      "cell_type": "markdown",
      "source": [
        "### Our World in Data - CO2 Dataset\n",
        "(by Dario Giovannini)\n",
        "\n",
        "Just as with the Energy dataset, the CO2 dataset is well documented and easy to use. The source data can be found here: https://github.com/owid/co2-data"
      ],
      "metadata": {
        "id": "qTQWvYNlVt3S"
      }
    },
    {
      "cell_type": "code",
      "source": [
        "# dataset is loaded\n",
        "df_co2 = pd.read_csv(\"data/OWID_CO2/owid-co2-data.csv\")"
      ],
      "metadata": {
        "id": "fMlhOBaPbj57"
      },
      "execution_count": null,
      "outputs": []
    },
    {
      "cell_type": "code",
      "source": [
        "# A joined dataframe combining the Energy and CO2 datasets is created\n",
        "relevant_energy = df_energy[[\"iso_code\", \"country\", \"year\",\n",
        "                             \"gdp\", \"population\",\n",
        "                             \"primary_energy_consumption\", \"electricity_generation\",\n",
        "                             \"energy_per_gdp\", \"energy_per_capita\",\n",
        "                             \"nuclear_electricity\", \"nuclear_share_elec\",\n",
        "                             \"nuclear_consumption\", \"nuclear_share_energy\"]]\n",
        "relevant_co2 = df_co2[[\"iso_code\", \"country\", \"year\",\n",
        "                       \"population\", \"gdp\", \"primary_energy_consumption\",\n",
        "                       \"co2\", \"methane\", \"total_ghg\"]]\n",
        "\n",
        "joined = relevant_energy.join(\n",
        "    relevant_co2.set_index([\"iso_code\", \"country\", \"year\"]),\n",
        "    on = [\"iso_code\", \"country\", \"year\"], rsuffix = \"_co2\", lsuffix = \"_energy\"\n",
        ").set_index([\"iso_code\", \"country\", \"year\"])"
      ],
      "metadata": {
        "id": "uCEQ8uiDb1a6"
      },
      "execution_count": null,
      "outputs": []
    },
    {
      "cell_type": "code",
      "source": [
        "# the combined dataframe is investigated, specifically for differences in shared variables & missing values\n",
        "value_exists = joined[joined[\"co2\"].notna()].groupby([\"iso_code\", \"year\"]).count()\n",
        "(value_exists == 0).sum()\n",
        "\n",
        "comparevals = [\"gdp\", \"population\", \"primary_energy_consumption\"]\n",
        "energy_vals = [x+\"_energy\" for x in comparevals]\n",
        "co2_vals = [x+\"_co2\" for x in comparevals]\n",
        "\n",
        "val_diffs = (joined[energy_vals] - joined[co2_vals].values)[joined[\"primary_energy_consumption_energy\"].notna()]\n",
        "mean_diff = val_diffs.groupby(\"country\").mean()\n",
        "max_vals = joined[joined[\"primary_energy_consumption_energy\"].notna()][energy_vals].groupby(\"country\").max() * 100\n",
        "\n",
        "relative_diff = mean_diff / max_vals.loc[mean_diff.index] * 100\n",
        "print(relative_diff[\"gdp_energy\"][relative_diff[\"gdp_energy\"].isna()].index)\n",
        "\n",
        "print(relative_diff[\"gdp_energy\"].dropna().abs().sort_values())"
      ],
      "metadata": {
        "id": "ZVdrQ4BbcIT4"
      },
      "execution_count": null,
      "outputs": []
    },
    {
      "cell_type": "markdown",
      "source": [
        "While the values for GDP as well as population differ somewhat between the two datasets, these differences are relatively small. For lack of a better option, the differences will remain unreconciled, and the data from the Energy dataset considered authorative as it also forms the basis for all other considerations in this project.\n",
        "\n",
        "This combined energy and CO2 dataset will form the basis for specifically the analysis of the CO2 impact of nuclear energy. "
      ],
      "metadata": {
        "id": "30jbpL8VcYWf"
      }
    },
    {
      "cell_type": "code",
      "source": [
        "df_co2_and_energy = joined[energy_vals +\n",
        "            [x for x in relevant_energy.columns if x not in comparevals and x not in joined.index.names] +\n",
        "            [x for x in relevant_co2.columns if x not in comparevals and x not in joined.index.names]]\n",
        "df_co2_and_energy.columns = comparevals + list(df_co2_and_energy.columns[3:])"
      ],
      "metadata": {
        "id": "4L8J-5FtdJfc"
      },
      "execution_count": null,
      "outputs": []
    },
    {
      "cell_type": "markdown",
      "source": [
        "### Integrated Values Survey\n",
        "(by: Dario Giovannini)\n",
        "\n",
        "The World Values Survey and European Values Survey are two long-running projects, which each collect similar survey data from across the entire world, and more specifically europe respectively. This data is made available in various formats, but separately as it is aggregated by different institutions. The combination of these two datasets is known the Integrated Values Survey. This dataset was chosen to provide insights into public opinion, specifically regarding nuclear energy, the environment, and trust in public institutions. \n",
        "\n",
        "In order to enable users to perform this combination in a consistent manner, a Merge Syntax is provided. Original data, the merge syntax files, and instructions on how to use them can be found here: https://www.worldvaluessurvey.org/WVSEVStrend.jsp\n",
        "\n",
        "Actually applying this merge syntax turned out to be quite tricky, as I was not familiar with the STATA and SPSS datatypes, but the merge syntax only exists for these. A consirable amount of trial-and-error as well as googling lead me to a proprietary software by IBM that deals with SPSS data, found here: https://www.ibm.com/products/spss-statistics\n",
        "\n",
        "Luckily, this software exists as a trial version, which was used to successfully apply the merge syntax, creating the integrated values survey datafile. This can be downloaded at the place indicated in the install_data.txt file. \n",
        "\n",
        "This data was then explored somwhat, to get a first feel for the overall structure of data and especially missing data:"
      ],
      "metadata": {
        "id": "V4agah-JreGn"
      }
    },
    {
      "cell_type": "code",
      "source": [
        "# IVS is loaded\n",
        "\n",
        "ivs_data, ivs_meta = pyreadstat.read_sav(\"data/WVS/Integrated_values_surveys_1981-2021.sav\", encoding=\"cp850\")"
      ],
      "metadata": {
        "id": "F79h7fgktveE"
      },
      "execution_count": null,
      "outputs": []
    },
    {
      "cell_type": "code",
      "source": [
        "# looking at rough distribution of data in time intervals\n",
        "\n",
        "(ivs_data[\"S020\"].astype(int)//5 * 5).value_counts().sort_index(ascending=False).plot.barh()\n",
        "plt.title(\"Number of Survey Responses per 5-Year Interval\")"
      ],
      "metadata": {
        "id": "ncEcSItEuXH1"
      },
      "execution_count": null,
      "outputs": []
    },
    {
      "cell_type": "code",
      "source": [
        "# country names are converted to ISO-standard 3-letter-codes, which didn't exist in the original data in a unified way\n",
        "\n",
        "iso_codes = pd.read_csv(\"data/WVS/iso country codes/iso3166.tsv\", sep=\"\\t\")\n",
        "iso_codes[\"Numeric\"] = iso_codes[\"Numeric\"].fillna(0).astype(int)\n",
        "alpha2_to_alpha3 = iso_codes.set_index(\"Alpha-2 code\")[\"Alpha-3 code\"].to_dict()\n",
        "\n",
        "def map_codes(alpha2val):\n",
        "    if alpha2val in alpha2_to_alpha3:\n",
        "        return alpha2_to_alpha3[alpha2val]\n",
        "    else:\n",
        "        return \"invalid\"\n",
        "\n",
        "ivs_data[\"country\"] = ivs_data[\"S009\"].apply(map_codes)\n",
        "\n",
        "# since the 1985 inteval has so few responses, it is combined with the 1980 one.\n",
        "df[\"year\"] = (df[\"S020\"].astype(int)//5 * 5)\n",
        "df[\"year\"][df[\"year\"] == 1985] = 1980"
      ],
      "metadata": {
        "id": "Vhm2MwXluiVA"
      },
      "execution_count": null,
      "outputs": []
    },
    {
      "cell_type": "code",
      "source": [
        "responses_per_country_per_interval = df[\"country\"].groupby(df[\"year\"]).apply(lambda x: x.value_counts().sort_values()).unstack(level=0).fillna(0).astype(int)\n",
        "\n",
        "share_of_invalid_responses = responses_per_country_per_interval.loc[\"invalid\"] / responses_per_country_per_interval.iloc[:-1].sum()\n",
        "print(share_of_invalid_responses)\n",
        "\n",
        "responses_per_country_per_interval.loc[[\"AUT\", \"DEU\", \"SWE\", \"FRA\", \"RUS\", \"TUR\", \"CHN\", \"IND\", \"JPN\", \"IRN\", \"USA\", \"BRA\", \"CAN\", \"MEX\"]]"
      ],
      "metadata": {
        "id": "P3jYNibZu-39"
      },
      "execution_count": null,
      "outputs": []
    },
    {
      "cell_type": "markdown",
      "source": [
        "\n",
        "the share of responses from unrecognized (as per ISO-3166) countries per time-interval is fairly small, and as might be expected more often found in the older parts of the dataset. Looking at a small sample of potentially interesting countries, none are present in all time-intervals, which indicates potential issues with continuity in the data.\n",
        "\n",
        "Next, a look is taken at the share of missing data for various questions deemed interesting (Please refer to the EVS_WVS_Dictionary_IVS file for details on these questions beyond the short comment given here):"
      ],
      "metadata": {
        "id": "9tWevvRvvcu0"
      }
    },
    {
      "cell_type": "code",
      "source": [
        "interesting_questions = [\"A001\", # family\n",
        "                         \"A002\", # friends\n",
        "                         \"A003\", # leisure time\n",
        "                         \"A004\", # politics\n",
        "                         \"A005\", # work\n",
        "                         \"A006\", # religion\n",
        "                         \"A010\", # happiness\n",
        "                         \"A165\", # most people can be trusted\n",
        "                         \"B008\", # protecting environment vs econ growth\n",
        "                         \"D059\", \"D060\", # sexism\n",
        "                         \"E069_04\", # confidence in press\n",
        "                         \"E069_11\", # confidence in government\n",
        "                         \"E069_14\", # confidence in environmental protection movement\n",
        "                         \"E235\", # importance of democracy\n",
        "                         \"F034\", # religious person (maybe redundant with A006)\n",
        "                         \"G006\", # proud of nationality\n",
        "                         ]\n",
        "# share of non-responses - all these questions have responses on a scale from 1-x, where 0 or negative values are considered non-responses of various descriptions.\n",
        "by_interval = df[interesting_questions].applymap(lambda x: x if x > 0 else np.nan).isna().groupby(df[\"year\"])\n",
        "non_responses = (by_interval.sum() / by_interval.count().max()).T\n",
        "non_responses"
      ],
      "metadata": {
        "id": "z3f-1QgHv0UL"
      },
      "execution_count": null,
      "outputs": []
    },
    {
      "cell_type": "markdown",
      "source": [
        "Most of these questions have fairly high rates of non-responses in the 1980 interval notable exceptions are A165 (general trust) and F034 (religious person). Other questions undergo large fluctuations. Overall, A001-A006, A165, E069_04, F034 and G006 seem like the most reliable values in terms of the share of missing values."
      ],
      "metadata": {
        "id": "RBVLo71YwINR"
      }
    },
    {
      "cell_type": "markdown",
      "source": [
        "[ Power Plant DB Stuff ]"
      ],
      "metadata": {
        "id": "OuaE_UnkVg4t"
      }
    },
    {
      "cell_type": "markdown",
      "source": [
        "## Questions Asked\n",
        "The original questions on the topic provided the baseline for our investigation into the data. We further refined the questions into these specific forms:\n",
        "\n",
        "\n",
        "1. How has the use of nuclear energy evolved over time? \n",
        "  1. Has the “focus” of nuclear energy shifted in terms of nations or regions heavily employing it?\n",
        "  1. Are there trends in the types of generators used?\n",
        "  1. Are there observable impacts of events / disasters (e.g. Chernobyl, Fukushima) on the use of nuclear energy?\n",
        "1. How well does the use of nuclear energy correlate with changes in carbon emissions? \n",
        "1. Are there characteristics of a country that correlate with increases or decreases in the use of nuclear energy?\n",
        "\n",
        "We chose these questions to gain insights on the evolution of the use of nuclear energy over time as well as regionally and the investigate the impacts it has had as an alternative to fossil fuels in reducing greenhouse gas emissions, specifically CO2. "
      ],
      "metadata": {
        "id": "G0LvRlu_T46l"
      }
    },
    {
      "cell_type": "markdown",
      "source": [
        "### Has the \"focus\" of nuclear energy shifted in terms of nations or regions heavily employing it?\n",
        "\n",
        "[ Map ]"
      ],
      "metadata": {
        "id": "Y7m4OhbxZRto"
      }
    },
    {
      "cell_type": "markdown",
      "source": [
        "### Are there trends in the types of generators used? \n",
        "\n",
        "not sure if we actually did this / if the PowerplantDB data has this but if not we should still mention it because it's on the workplan\n"
      ],
      "metadata": {
        "id": "B4qEHnOQZX5C"
      }
    },
    {
      "cell_type": "markdown",
      "source": [
        "### Are there observable impacts of events / disasters (e.g. Chernobyl, Fukushima) on the use of nuclear energy?\n",
        "\n",
        "[ events analysis]"
      ],
      "metadata": {
        "id": "oaevM0giZhMk"
      }
    },
    {
      "cell_type": "markdown",
      "source": [
        "### How well does the use of nuclear energy correlate with changes in carbon emissions?\n",
        "( by Dario Giovannini )\n",
        "\n",
        "This question will be answered by looking at the yearly difference in CO2 emissions and nuclear energy generation, as well as a look at the overall trend of energy use, per country."
      ],
      "metadata": {
        "id": "yfy3JsVTZpZb"
      }
    },
    {
      "cell_type": "code",
      "source": [
        "# A dataframe containing all relevant absolute as well as scaled data is created.\n",
        "# Not all of these values ended up being used, as some turned out to show the same\n",
        "# thing better, and were thus preferred.\n",
        "\n",
        "data_carboncorr = df_co2_and_energy[[\"population\", \"gdp\", \"co2\", \"total_ghg\",\n",
        "           \"primary_energy_consumption\", \"electricity_generation\",\n",
        "           \"nuclear_consumption\", \"nuclear_electricity\"]]\n",
        "\n",
        "data_carboncorr[\"co2_per_capita\"] = df_co2_and_energy[\"co2\"] / df_co2_and_energy[\"population\"] * 1e6\n",
        "data_carboncorr[\"co2_per_gdp\"] = df_co2_and_energy[\"co2\"] / df_co2_and_energy[\"gdp\"] * 1e6\n",
        "data_carboncorr[\"co2_per_kwh\"] = df_co2_and_energy[\"co2\"] / df_co2_and_energy[\"primary_energy_consumption\"]\n",
        "data_carboncorr[\"total_ghg_per_capita\"] = df_co2_and_energy[\"total_ghg\"] / df_co2_and_energy[\"population\"]\n",
        "data_carboncorr[\"total_ghg_per_gdp\"] = df_co2_and_energy[\"total_ghg\"] / df_co2_and_energy[\"gdp\"]\n",
        "data_carboncorr[\"energy_per_capita\"] = df_co2_and_energy[\"primary_energy_consumption\"] / df_co2_and_energy[\"population\"]\n",
        "data_carboncorr[\"energy_per_gdp\"] = df_co2_and_energy[\"primary_energy_consumption\"] / df_co2_and_energy[\"gdp\"]\n",
        "data_carboncorr[\"energy_normalized\"] = df_co2_and_energy[\"primary_energy_consumption\"] / df_co2_and_energy[\"primary_energy_consumption\"].unstack(level=-1).T.max()\n",
        "data_carboncorr[\"electricity_per_capita\"] = df_co2_and_energy[\"electricity_generation\"] / df_co2_and_energy[\"population\"]\n",
        "data_carboncorr[\"electricity_per_gdp\"] = df_co2_and_energy[\"electricity_generation\"] / df_co2_and_energy[\"gdp\"]\n",
        "\n",
        "data_carboncorr[\"nuclear_consumption_per_capita\"] = df_co2_and_energy[\"nuclear_consumption\"] / df_co2_and_energy[\"population\"]\n",
        "data_carboncorr[\"nuclear_consumption_per_gdp\"] = df_co2_and_energy[\"nuclear_consumption\"] / df_co2_and_energy[\"gdp\"]\n",
        "data_carboncorr[\"nuclear_electricity_per_capita\"] = df_co2_and_energy[\"nuclear_electricity\"] / df_co2_and_energy[\"population\"]\n",
        "data_carboncorr[\"nuclear_electricity_per_gdp\"] = df_co2_and_energy[\"nuclear_electricity\"] / df_co2_and_energy[\"gdp\"]\n",
        "\n",
        "data_carboncorr[\"nuclear_energy_share\"] = df_co2_and_energy[\"nuclear_consumption\"] / df_co2_and_energy[\"primary_energy_consumption\"]\n",
        "data_carboncorr[\"nuclear_energy_share_pct\"] = df_co2_and_energy[\"nuclear_consumption\"] / df_co2_and_energy[\"primary_energy_consumption\"] * 100\n",
        "data_carboncorr[\"nuclear_electricity_share\"] = df_co2_and_energy[\"nuclear_electricity\"] / df_co2_and_energy[\"electricity_generation\"]\n",
        "data_carboncorr[\"nuclear_electricity_share_pct\"] = df_co2_and_energy[\"nuclear_electricity\"] / df_co2_and_energy[\"electricity_generation\"] * 100\n",
        "\n",
        "iso_name_dict = {iso:country for iso,country,year in data_carboncorr.index}"
      ],
      "metadata": {
        "id": "M-bBePjEeoN8"
      },
      "execution_count": null,
      "outputs": []
    },
    {
      "cell_type": "markdown",
      "source": [
        "The most useful of these values turned out to be the CO2 per kWh metric, which refers to tons of CO2 (in the original data, the CO2 column is in Million Tons, and the primary energy use in Terawatthours - this cancels out to kg CO2 per kWh, which is a great metric to show the overall \"dirtyness\" of the energy used.\n",
        "\n",
        "Another value worth explaining is the \"normalized\" energy, which is simply the primary energy consumption divided by its maximum value in the data. This brings the energy use to a scale of 0 to 1, which makes it easily comparable with other ratio data such as the nuclear energy share."
      ],
      "metadata": {
        "id": "jKAqA7jUj81O"
      }
    },
    {
      "cell_type": "markdown",
      "source": [
        "#### Nuclear Energy \"Leaderboard\"\n",
        "The first step in this analysis was to figure out which countries even use nuclear energy. To do this, an aggregate dataframe was created containing information such as the total energy from nuclear sources per country, as well as the share of total energy consumption from nuclear sources. It should  be noted here that in general this analysis considered the total energy consumption rather than electricity, as this presents a more complete picture of the environmental impacts of energy use. "
      ],
      "metadata": {
        "id": "JVTO4W42fluH"
      }
    },
    {
      "cell_type": "code",
      "source": [
        "nuclear_countries = data_carboncorr[data_carboncorr[\"nuclear_consumption\"] > 0].groupby([\"iso_code\", \"country\"]).any().index\n",
        "nuclear_country_info = pd.DataFrame(index=nuclear_countries)\n",
        "total_nuclear_energy = data_carboncorr[\"nuclear_consumption\"].reset_index().groupby([\"iso_code\",\"country\"]).sum().drop(\"year\", axis=1)\n",
        "nuclear_country_info[\"total_nuclear_energy\"] = total_nuclear_energy.loc[nuclear_country_info.index]\n",
        "total_energy = data_carboncorr[\"primary_energy_consumption\"].reset_index().groupby([\"iso_code\",\"country\"]).sum().drop(\"year\", axis=1)\n",
        "nuclear_country_info[\"total_energy\"] = total_energy.loc[nuclear_country_info.index]\n",
        "nuclear_country_info[\"lifetime_nuclear_share\"] = nuclear_country_info[\"total_nuclear_energy\"] / nuclear_country_info[\"total_energy\"]\n",
        "\n",
        "nuclear_country_info.sort_values(by=\"lifetime_nuclear_share\")"
      ],
      "metadata": {
        "id": "oVrJv4JBf1dz"
      },
      "execution_count": null,
      "outputs": []
    },
    {
      "cell_type": "markdown",
      "source": [
        "Perhaps unsurprisingly, France turns out to be the country with the overall largest share of energy use from nuclear sources. Lithuania came as a surprise to me in featuring so high on this list, but the reason for this shall become apparent later. "
      ],
      "metadata": {
        "id": "lqhxxC8ogDPa"
      }
    },
    {
      "cell_type": "markdown",
      "source": [
        "#### Correlation in Nuclear Energy Use Change and CO2 Emission Change\n",
        "\n",
        "The core of this question is investigating a potential correlation between a country's CO2 emissions and their use of nuclear energy. This is done by primarily looking at the yearly difference in the share of a country's energy that is produced by nuclear sources, and the change in the CO2 per kWh metric, which measures the \"dirtyness\" of the country's energy - that is, how much CO2 (in kilos) is produced per kWh of primary energy use from all sources.\n",
        "\n",
        "Incidentially, while only one of these values is a ratio and thus expected to be in the range from 0 to 1, the CO2 per kWh metric also shares a similar range, making the comparison convenient to visualize."
      ],
      "metadata": {
        "id": "fpVgvMTrhw7Q"
      }
    },
    {
      "cell_type": "code",
      "source": [
        "# A small helper function extracts the correlation between the two target values.\n",
        "def get_corr(df):\n",
        "    df.columns = df.columns.get_level_values(0)\n",
        "    c = df.corr()\n",
        "    return c.iloc[0,1]\n",
        "\n",
        "yearly_change = data_carboncorr.unstack(level=[0,1]).diff()[[\"nuclear_energy_share\", \"co2_per_kwh\"]]\n",
        "yearly_change_corr = yearly_change.groupby(level=[1,2], axis=1).apply(get_corr).dropna()\n",
        "yearly_change_corr.sort_values().plot.barh()"
      ],
      "metadata": {
        "id": "g_lxcz9aivXb"
      },
      "execution_count": null,
      "outputs": []
    },
    {
      "cell_type": "markdown",
      "source": [
        "This plot shows that for most countries that use any amount of nuclear energy, the correlation between the share of nuclear energy and the CO2 per kWh metric is negative, meaning that as nuclear energy share increases, the amount of CO2 per kWh can be expected to decrease. This matches well with expecations, given that nuclear energy is not from fossil fuels and has no carbon emissions at all in operation, although building the powerplants is of course a significant efforts, and issues around storing the nuclear waste are not considered at all here. \n",
        "\n",
        "The correlation, while technically \"there\", is for the most part not very strong, with only a few countreis reaching values of even +/- 0.4. This indicates that there are other effects at play as well, presumably a general increase in efficiency of fossil fuel-based power plants, as well as the general rise of renewable energies such as solar and wind. \n",
        "\n",
        "Very notably, Lithuania has a very high negative correlation evident from this yearly change data. To investigate this and some other interesting cases, some individual countries are looked at in more detail."
      ],
      "metadata": {
        "id": "Dih8Fd_njAkw"
      }
    },
    {
      "cell_type": "code",
      "source": [
        "# A convenient function for quickly plotting a single country's trajectory through the years.\n",
        "def make_country_plots(iso):\n",
        "    d = data.loc[(iso, iso_name_dict[iso])]\n",
        "    fig1 = d[[\"co2_per_kwh\", \"nuclear_energy_share\", \"energy_normalized\"]].plot()\n",
        "    fig2 = d.diff().plot.scatter(\"co2_per_kwh\", \"nuclear_energy_share\")\n",
        "    plt.show()"
      ],
      "metadata": {
        "id": "W9pFevlZjtx2"
      },
      "execution_count": null,
      "outputs": []
    },
    {
      "cell_type": "code",
      "source": [
        "# case study: Lithuania\n",
        "make_country_plots(\"LTU\")"
      ],
      "metadata": {
        "id": "sjNBrIRmk5cG"
      },
      "execution_count": null,
      "outputs": []
    },
    {
      "cell_type": "markdown",
      "source": [
        "As it turns out, Lithuania shut down their last nuclear reactors in 2004 and 2009. This is clearly visible in this plot through the drop in nuclear energy share in those years, very clearly in 2009 when it drops to 0. At the same time this coincides with a significant rise in the CO2 per kWh metric, showing that the energy that had previously come from nuclear sources was most likely made up for by energy from fossil sources, which of course emit significant amounts of CO2. As a result, the correlation - as can be seen from the initial results as well as the scatter plot shown here - is a very strong one, and even without the outlier year of 2009 would be significant.\n",
        "\n",
        "Another interesting feature of this country's development is the large drop in energy use around 1991. This coincides with the dissolution of the Soviet Union, and is likely not a coincidence and very interesting, but further investigation of this effect is outside the scope of this project."
      ],
      "metadata": {
        "id": "Ow-pM4N4k8Md"
      }
    },
    {
      "cell_type": "code",
      "source": [
        "# case study: France\n",
        "make_country_plots(\"FRA\")"
      ],
      "metadata": {
        "id": "p03ym3V8mZcc"
      },
      "execution_count": null,
      "outputs": []
    },
    {
      "cell_type": "markdown",
      "source": [
        "France, being the overall leader in nuclear energy share worldwide, is an obvious candidate for further examination. They also show the second-best correlation, although only barely over -0.6 and thus not very significant. Nonetheless, studying these plots tells a compelling story - the massive expansion in nuclear energy use in the 1980s was accompanied by a significant reduction in CO2 emissions per kWh used. Subsequent stagnation in nuclear energy share lead to a similar stagnation in energy \"dirtyness\", although it is still slightly decreasing - likely due to aforementioned factors of increased efficiency of power plants and the general spread of renewable energies."
      ],
      "metadata": {
        "id": "HdhDjHLImaws"
      }
    },
    {
      "cell_type": "code",
      "source": [
        "# case study: Ukraine\n",
        "make_country_plots(\"UKR\")"
      ],
      "metadata": {
        "id": "4wJ1zv2VnJ09"
      },
      "execution_count": null,
      "outputs": []
    },
    {
      "cell_type": "markdown",
      "source": [
        "Ukraine is an interesting case in that it is an example of a positive correlation, which is counter to the intuitive expectation. This correlation is very weak and thus shouldn't be considered significant, but still bears investigation.\n",
        "\n",
        "The first plot shows a similarly steep decline in overall energy use as Lithuania, which again is likely connected to the dissolution of the Soviet Union. Overall while the share of nuclear energy is trending upwards in time, the CO2 per kWh metric also trends upwards, which leads to the observed slightly positive correlation. The explanation is likely that the upwards trending nuclear energy share is more due to decreased overall energy consumption rather than expansion of nuclear energy use however."
      ],
      "metadata": {
        "id": "np__VcbfnLdf"
      }
    },
    {
      "cell_type": "code",
      "source": [
        "# case study: Germany\n",
        "make_country_plots(\"DEU\")"
      ],
      "metadata": {
        "id": "FCBPbGixoKjJ"
      },
      "execution_count": null,
      "outputs": []
    },
    {
      "cell_type": "markdown",
      "source": [
        "An interesting country to look at simply due to geographical and cultural proximity to Austria (which of course does not have nuclear energy itself [except what might be imported, which is difficult to track]), is Germany. They have an overall weak correlation between nuclear energy share and CO2 per kWh, which is partially explained by their overall low nuclear energy share, but more significantly by the reduction in nuclear energy use starting in the mid-2000s, which is accompanied by not an increase in CO2 per kWh, but a further steady decline, accelerating in recent years. This is likely to a comparably large expansion of renewable energy, as well as potentially more efficient fossil fuel-based powerplants. "
      ],
      "metadata": {
        "id": "LBJUXeMroIND"
      }
    },
    {
      "cell_type": "code",
      "source": [
        "# case study: USA\n",
        "make_country_plots(\"USA\")"
      ],
      "metadata": {
        "id": "JBsGZ1e5o-lQ"
      },
      "execution_count": null,
      "outputs": []
    },
    {
      "cell_type": "markdown",
      "source": [
        "A slow increase in nuclear energy share corresponds to an almost constant kg CO2 per kWh value. Simultaneously, the slight decline in energy \"dirtyness\" in the 2010s corresponds to a roughly constant nuclear energy share. Thus, there is very little correlation to be found here, and reductions in CO2 per kWh cannot solely be attributed to nuclear energy."
      ],
      "metadata": {
        "id": "mKK1T2o6pAGL"
      }
    },
    {
      "cell_type": "code",
      "source": [
        "# case study: Japan\n",
        "make_country_plots((\"JPN\"))"
      ],
      "metadata": {
        "id": "3azNZR2spazH"
      },
      "execution_count": null,
      "outputs": []
    },
    {
      "cell_type": "markdown",
      "source": [
        "Immediately obvious is the large drop in nuclear energy share after 2010, which is almost certainly due to the Fukushima disaster following a tsunami in March 2011. Japan has a comparably strong correlation between nuclear energy share and CO2 per kWh, although still weak with a value of ~ -0.4. Following the drop in nuclear energy share, it is now increasing again, accompanied by a renewed reduction in co2 per kWh. Very likely this is due to short-term solutions to make up for missing energy from nuclear sources being phased out in favour of renewable energies, as well as new nuclear sources as public fear and scepticism wanes."
      ],
      "metadata": {
        "id": "Fx3MHck-peF6"
      }
    },
    {
      "cell_type": "code",
      "source": [
        "# case study: World\n",
        "make_country_plots(\"OWID_WRL\")"
      ],
      "metadata": {
        "id": "0uqWC23Cqg_0"
      },
      "execution_count": null,
      "outputs": []
    },
    {
      "cell_type": "markdown",
      "source": [
        "As the final \"case study\", a look was taken at the overall data for the entire world. Given that only a few countries use nuclear energy to a significant degree, the overall low share of nuclear energy use is expected. Overall, no significant correlation can be detected from this data, but it is quite interesting to see the rather steep increase in worldwide energy use, especially when compared to the graphs for the same value for some of the countries looked at here, many of which are showing a decrease in total energy use in recent years, which indicates a shift in where growth happens worldwide."
      ],
      "metadata": {
        "id": "PHUvBs14qiAf"
      }
    },
    {
      "cell_type": "markdown",
      "source": [
        "#### Conclusions for Correlation between Nuclear Energy Use and CO2 Emissions\n",
        "\n",
        "As has been shown, different countries show very different profiles in regards to this question. Overall, a slight trend can be observed that widespread use of nuclear energy (which is to say, the country has a high nuclear energy share) is accompanied by a reduction in CO2 emissions per kWh energy used in total. This trend hold especially strongly for cases where there is a rapid decline in nuclear energy use - such as in the cases of Lithuania and Japan - when carbon-based fossil fuels are used as immediately available replacements. For countries such as France, for which nuclear energy constitutes a large portion of their overall energy use, this correlation can also be observed in the stages of expansion of nuclear energy. For most countries however neither extreme holds, and thus no statistically significant correlation can be identified. "
      ],
      "metadata": {
        "id": "ywwvQ__krD6D"
      }
    },
    {
      "cell_type": "markdown",
      "source": [
        "### Are there characteristics of a country that correlate with increases or decreases in the use of nuclear energy? \n",
        "\n",
        "[ stuff ]"
      ],
      "metadata": {
        "id": "1TOV9_frZ4cP"
      }
    },
    {
      "cell_type": "markdown",
      "source": [
        "## Conclusions\n"
      ],
      "metadata": {
        "id": "Bw9y1acuav0f"
      }
    },
    {
      "cell_type": "markdown",
      "source": [
        "## Key Takeaways, Techniques Learned, Problems & Biases, Work Division "
      ],
      "metadata": {
        "id": "EuVTUo-7azCH"
      }
    },
    {
      "cell_type": "markdown",
      "source": [
        "I'm sure writing this won't be annoying at all"
      ],
      "metadata": {
        "id": "f0X3_4hka0Jz"
      }
    }
  ]
}