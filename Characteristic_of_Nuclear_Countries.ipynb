{
 "nbformat": 4,
 "nbformat_minor": 0,
 "metadata": {
  "colab": {
   "name": "Characteristic_of_Nuclear_Countries.ipynb",
   "provenance": [],
   "collapsed_sections": []
  },
  "kernelspec": {
   "name": "python3",
   "display_name": "Python 3"
  },
  "language_info": {
   "name": "python"
  }
 },
 "cells": [
  {
   "cell_type": "markdown",
   "source": [
    "# Characteristics of Countries that correlate with use of nuclear energy\n",
    "\n",
    "This notebook will be used to document the exploration of the question:\n",
    "\n",
    "_\"Are there characteristics of a country that correlate with increases or decreases in\n",
    "the use of nuclear energy?\"_\n",
    "\n",
    "In order to gather information about this topic, we are going to use the \"World Values Survey\" (WVS).\n",
    "It is a dataset that records various psychological effects and phenomena of citizen from various countries.\n",
    "The data in the WVS is collected from the World Value Study and the European Value Study. Hence, some\n",
    "questions/features included in the dataset are not available for certain countries.\n",
    "Data is collected in 5-Year intervals. This is important to know, as merging the data on years with other\n",
    "datasets will require some tweaking of the granularity of the time data (5-year versus 1-year etc.).\n",
    "\n",
    "For the nuclear energy part, we are going to rely on the \"Our World in Data - Energy\" (OWID) dataset. We\n",
    "also use this dataset for a few other questions we try to answer. It contains yearly information about\n",
    "various energy features, including nuclear, renewable, coal and many more. We are going to focus solely\n",
    "on the nuclear energy related features to research this question."
   ],
   "metadata": {
    "id": "c3lZTH6maFKj"
   }
  },
  {
   "cell_type": "markdown",
   "source": [
    "## Loading the data\n",
    "As first step, we will import all the python packages we are going to use later on.\n",
    "We also import the datasets from .sav and .csv respectively. The .sav file is generated\n",
    "using IBM's SPSS software according to the WVS guide."
   ],
   "metadata": {
    "collapsed": false
   }
  },
  {
   "cell_type": "code",
   "source": [
    "import pandas as pd\n",
    "import numpy as np\n",
    "import pyreadstat\n",
    "import matplotlib.pyplot as plt\n",
    "import seaborn as sns\n",
    "from sklearn.linear_model import ElasticNetCV\n",
    "from sklearn.model_selection import train_test_split\n",
    "from sklearn.metrics import mean_squared_error"
   ],
   "metadata": {
    "id": "WuvQy-6Wa9B3"
   },
   "execution_count": 3,
   "outputs": []
  },
  {
   "cell_type": "code",
   "source": [
    "df, meta = pyreadstat.read_sav(\"data/VWS/Integrated_values_surveys_1981-2021.sav\", encoding=\"cp850\")"
   ],
   "metadata": {
    "id": "DdGONw2IIgHB"
   },
   "execution_count": 139,
   "outputs": []
  },
  {
   "cell_type": "code",
   "source": [
    "owid = pd.read_csv(\"data/OWID_energy/owid-energy-data.csv\")"
   ],
   "metadata": {
    "id": "-Ed1_-DCId_Z"
   },
   "execution_count": 5,
   "outputs": []
  },
  {
   "cell_type": "markdown",
   "source": [
    "### Pre-Processing for WVS"
   ],
   "metadata": {
    "collapsed": false
   }
  },
  {
   "cell_type": "markdown",
   "source": [
    "As first step, we divide the years into intervals of 5-years.\n",
    "This should make processing the data a bit easier.\n",
    "\n",
    "We then collect the data from 1980 and 1985 into one interval, as there\n",
    "are very few values recorded in 1985 (See exploration notebook)."
   ],
   "metadata": {
    "collapsed": false
   }
  },
  {
   "cell_type": "code",
   "execution_count": 273,
   "outputs": [
    {
     "data": {
      "text/plain": "<Figure size 432x288 with 1 Axes>",
      "image/png": "[encoded data removed]"
     },
     "metadata": {
      "needs_background": "light"
     },
     "output_type": "display_data"
    }
   ],
   "source": [
    "(df[\"S020\"].astype(int)//5 * 5).value_counts().sort_index(ascending=False).plot.barh()\n",
    "df[\"year\"] = (df[\"S020\"].astype(int)//5 * 5)\n",
    "df.loc[df[\"year\"] == 1985,'year'] = 1980"
   ],
   "metadata": {
    "collapsed": false,
    "pycharm": {
     "name": "#%%\n"
    }
   }
  },
  {
   "cell_type": "markdown",
   "source": [
    "We can see that amount of data recorded between the years varies greatly.\n",
    "This may impact our analysis going forward if we use years with low number of responses."
   ],
   "metadata": {
    "collapsed": false
   }
  },
  {
   "cell_type": "markdown",
   "source": [
    "Since the country codes are saved in a separate tab-separated-values file,\n",
    "we will have to read them into our dataframe as well."
   ],
   "metadata": {
    "collapsed": false
   }
  },
  {
   "cell_type": "code",
   "source": [
    "iso_codes = pd.read_csv(\"data/VWS/iso country codes/iso3166.tsv\", sep=\"\\t\")\n",
    "iso_codes[\"Numeric\"] = iso_codes[\"Numeric\"].fillna(0).astype(int)\n",
    "alpha2_to_alpha3 = iso_codes.set_index(\"Alpha-2 code\")[\"Alpha-3 code\"].to_dict()\n",
    "\n",
    "def map_codes(alpha2val):\n",
    "    if alpha2val in alpha2_to_alpha3:\n",
    "        return alpha2_to_alpha3[alpha2val]\n",
    "    else:\n",
    "        return \"invalid\"\n",
    "\n",
    "df[\"country\"] = df[\"S009\"].apply(map_codes)"
   ],
   "metadata": {
    "id": "k8tg_1XFiTnn"
   },
   "execution_count": 274,
   "outputs": []
  },
  {
   "cell_type": "markdown",
   "source": [
    "As the dataset is very huge and has a lot of features, we will only be able\n",
    "to analyse a select few that we deemed appropriate with our limited time.\n",
    "The features from the WVS that in our opinion could influence the usage\n",
    "of nuclear energy are (not limited to) the following:"
   ],
   "metadata": {
    "collapsed": false
   }
  },
  {
   "cell_type": "code",
   "execution_count": 275,
   "outputs": [],
   "source": [
    "relevant_nuclear_features = [\n",
    "                             'E105', #Aproval of Anti-Nuclear Movement\n",
    "                             'E069_11', #Confidence in the Government\n",
    "                             'E069_03', #Confidence Education System\n",
    "                             'E001', #Aims of country first choice\n",
    "                             'E022', #Opinion about scientific advances\n",
    "                             'E016', #Future changes: More emphasis on technology\n",
    "                             'B008', #Protecting Env. vs Economic Growth\n",
    "                             'B007', #Protecting Env and fighting pollution is less urgent\n",
    "                             'B005', #All talk about the environment make people anxious\n",
    "                             'B003', #Government should reduce environmental pollution\n",
    "                             'A071B', #Member: Belong to conservation, the environment, ecology\n",
    "                             ]"
   ],
   "metadata": {
    "collapsed": false,
    "pycharm": {
     "name": "#%%\n"
    }
   }
  },
  {
   "cell_type": "markdown",
   "source": [
    "As the data in the WVS is a questionare format, it is a good idea to first pre-process them via the codes\n",
    "and throw out any answer we can not use for our analysis (non-answer, other than listed answer, etc.)\n",
    "\n",
    "### Handling missing data\n",
    "\n",
    "We will see that the data has lots and lots of missing values, due to people not being asked certain questions\n",
    "anymore depending on year and/or country."
   ],
   "metadata": {
    "collapsed": false
   }
  },
  {
   "cell_type": "code",
   "execution_count": 303,
   "outputs": [
    {
     "data": {
      "text/plain": "<Figure size 432x288 with 2 Axes>",
      "image/png": "[encoded data removed]"
     },
     "metadata": {
      "needs_background": "light"
     },
     "output_type": "display_data"
    }
   ],
   "source": [
    "wvs_interesting = df.loc[:, relevant_nuclear_features + ['country', 'year']]\n",
    "missing_by_interval = df[relevant_nuclear_features].applymap(lambda x: x if x > 0 else np.nan).isna().groupby(df.year)\n",
    "non_responses = (missing_by_interval.sum() / missing_by_interval.count().max()).T\n",
    "miss_ax = sns.heatmap(non_responses)\n",
    "miss_ax.set_title(\"Fraction of missing data in each feature for WVS\");"
   ],
   "metadata": {
    "collapsed": false,
    "pycharm": {
     "name": "#%%\n"
    }
   }
  },
  {
   "cell_type": "markdown",
   "source": [
    "We can see that some features mainly consist of missing values.\n",
    "For the features affected, it is probably best to exclude them from this analysis, as imputation would\n",
    "introduce gigantic bias. Most of the missing data can be attributed to the questions just not being asked (or are\n",
    "answered for that matter). This is unfortunate, as some of them would be interesting to analyse,\n",
    "such as E105. The same goes for B003, B007, B069_03 and A071B.\n",
    "\n",
    "For other columns the missing data is manageable, but also can be attributed to the same issues.\n",
    "\n",
    "Since they are very interesting and may be very relevant for the analysis.\n",
    "For the columns with large numbers of NAs, we will drop them:"
   ],
   "metadata": {
    "collapsed": false
   }
  },
  {
   "cell_type": "code",
   "execution_count": 302,
   "outputs": [],
   "source": [
    "wvs_cleaned = wvs_interesting.loc[:, ~wvs_interesting.columns.isin([\"B005\",\"B003\",\"B007\",\"A071B\",\"E105\",\"E069_03\"])]"
   ],
   "metadata": {
    "collapsed": false,
    "pycharm": {
     "name": "#%%\n"
    }
   }
  },
  {
   "cell_type": "markdown",
   "source": [
    "There is also a country 'invalid' that we have to remove:"
   ],
   "metadata": {
    "collapsed": false
   }
  },
  {
   "cell_type": "code",
   "execution_count": 339,
   "outputs": [],
   "source": [
    "wvs_cleaned = wvs_cleaned.loc[~(wvs_cleaned.reset_index().country == 'invalid').values, :]"
   ],
   "metadata": {
    "collapsed": false,
    "pycharm": {
     "name": "#%%\n"
    }
   }
  },
  {
   "cell_type": "markdown",
   "source": [
    "In order to get a better overview of the data over the timeframes, we will just take the\n",
    "averages of the columns. Since most of them are codes ordered from ae. 1-4 for good-bad government,\n",
    "it makes sense to do so."
   ],
   "metadata": {
    "collapsed": false
   }
  },
  {
   "cell_type": "code",
   "execution_count": 340,
   "outputs": [
    {
     "data": {
      "text/plain": "               E069_11      E001      E022      E016      B008\ncountry year                                                  \nALB     1995  2.611778  1.226358  1.361081  1.206445  1.570608\n        2000  2.380952  1.252041  1.863687  1.412000  1.562570\n        2005  3.030780       NaN       NaN       NaN       NaN\n        2015  3.391152  1.542160       NaN       NaN  1.538462\nAND     2005  2.783838  2.625126  1.864919  1.534673  1.229525\n...                ...       ...       ...       ...       ...\nZAF     2010  2.560105  1.912489       NaN  1.588521  1.639196\nZMB     2005  2.592287  1.560647  1.509615  1.606628  1.640969\nZWE     2000  2.443730  1.675403  1.386803  1.279441  1.667010\n        2010  2.533333  1.475333       NaN  1.283333  1.625333\n        2020  2.530629  1.745679       NaN  1.134488  1.465174\n\n[386 rows x 5 columns]",
      "text/html": "<div>\n<style scoped>\n    .dataframe tbody tr th:only-of-type {\n        vertical-align: middle;\n    }\n\n    .dataframe tbody tr th {\n        vertical-align: top;\n    }\n\n    .dataframe thead th {\n        text-align: right;\n    }\n</style>\n<table border=\"1\" class=\"dataframe\">\n  <thead>\n    <tr style=\"text-align: right;\">\n      <th></th>\n      <th></th>\n      <th>E069_11</th>\n      <th>E001</th>\n      <th>E022</th>\n      <th>E016</th>\n      <th>B008</th>\n    </tr>\n    <tr>\n      <th>country</th>\n      <th>year</th>\n      <th></th>\n      <th></th>\n      <th></th>\n      <th></th>\n      <th></th>\n    </tr>\n  </thead>\n  <tbody>\n    <tr>\n      <th rowspan=\"4\" valign=\"top\">ALB</th>\n      <th>1995</th>\n      <td>2.611778</td>\n      <td>1.226358</td>\n      <td>1.361081</td>\n      <td>1.206445</td>\n      <td>1.570608</td>\n    </tr>\n    <tr>\n      <th>2000</th>\n      <td>2.380952</td>\n      <td>1.252041</td>\n      <td>1.863687</td>\n      <td>1.412000</td>\n      <td>1.562570</td>\n    </tr>\n    <tr>\n      <th>2005</th>\n      <td>3.030780</td>\n      <td>NaN</td>\n      <td>NaN</td>\n      <td>NaN</td>\n      <td>NaN</td>\n    </tr>\n    <tr>\n      <th>2015</th>\n      <td>3.391152</td>\n      <td>1.542160</td>\n      <td>NaN</td>\n      <td>NaN</td>\n      <td>1.538462</td>\n    </tr>\n    <tr>\n      <th>AND</th>\n      <th>2005</th>\n      <td>2.783838</td>\n      <td>2.625126</td>\n      <td>1.864919</td>\n      <td>1.534673</td>\n      <td>1.229525</td>\n    </tr>\n    <tr>\n      <th>...</th>\n      <th>...</th>\n      <td>...</td>\n      <td>...</td>\n      <td>...</td>\n      <td>...</td>\n      <td>...</td>\n    </tr>\n    <tr>\n      <th>ZAF</th>\n      <th>2010</th>\n      <td>2.560105</td>\n      <td>1.912489</td>\n      <td>NaN</td>\n      <td>1.588521</td>\n      <td>1.639196</td>\n    </tr>\n    <tr>\n      <th>ZMB</th>\n      <th>2005</th>\n      <td>2.592287</td>\n      <td>1.560647</td>\n      <td>1.509615</td>\n      <td>1.606628</td>\n      <td>1.640969</td>\n    </tr>\n    <tr>\n      <th rowspan=\"3\" valign=\"top\">ZWE</th>\n      <th>2000</th>\n      <td>2.443730</td>\n      <td>1.675403</td>\n      <td>1.386803</td>\n      <td>1.279441</td>\n      <td>1.667010</td>\n    </tr>\n    <tr>\n      <th>2010</th>\n      <td>2.533333</td>\n      <td>1.475333</td>\n      <td>NaN</td>\n      <td>1.283333</td>\n      <td>1.625333</td>\n    </tr>\n    <tr>\n      <th>2020</th>\n      <td>2.530629</td>\n      <td>1.745679</td>\n      <td>NaN</td>\n      <td>1.134488</td>\n      <td>1.465174</td>\n    </tr>\n  </tbody>\n</table>\n<p>386 rows × 5 columns</p>\n</div>"
     },
     "execution_count": 340,
     "metadata": {},
     "output_type": "execute_result"
    }
   ],
   "source": [
    "wvs_clean_agg = wvs_cleaned.groupby(['country','year']).mean()\n",
    "wvs_clean_agg"
   ],
   "metadata": {
    "collapsed": false,
    "pycharm": {
     "name": "#%%\n"
    }
   }
  },
  {
   "cell_type": "markdown",
   "source": [
    "We still get a few NAs, for them will just use imputation, as for most\n",
    "countries there are not that many NaNs per feature."
   ],
   "metadata": {
    "collapsed": false
   }
  },
  {
   "cell_type": "code",
   "execution_count": 341,
   "outputs": [],
   "source": [
    "wvs_clean_agg = wvs_clean_agg.fillna(wvs_clean_agg.interpolate())"
   ],
   "metadata": {
    "collapsed": false,
    "pycharm": {
     "name": "#%%\n"
    }
   }
  },
  {
   "cell_type": "markdown",
   "source": [],
   "metadata": {
    "id": "M86-AQcZidIP"
   }
  },
  {
   "cell_type": "markdown",
   "source": [
    "## Economic Growth versus Protecting the Environment\n",
    "\n"
   ],
   "metadata": {
    "id": "sevpJK0o154-"
   }
  },
  {
   "cell_type": "code",
   "source": [
    "comp_countries = ['JPN','DEU','USA','FRA']\n",
    "nuc_comp = wvs_clean_agg.reset_index()\n",
    "nuc_comp = nuc_comp.loc[nuc_comp.country.isin(comp_countries),:]\n",
    "g = sns.FacetGrid(nuc_comp, col=\"country\", col_wrap=2)\n",
    "g.map_dataframe(sns.lineplot, x=\"year\",y=\"B008\")\n",
    "g.fig.subplots_adjust(top=0.9)\n",
    "g.fig.suptitle('Responses of B008 for interesting countries');"
   ],
   "metadata": {
    "colab": {
     "base_uri": "https://localhost:8080/",
     "height": 443
    },
    "id": "hToRg4Cgsaj8",
    "outputId": "770e3699-82b5-4677-9471-7334d28b6b82"
   },
   "execution_count": 342,
   "outputs": [
    {
     "data": {
      "text/plain": "<Figure size 432x432 with 4 Axes>",
      "image/png": "[encoded data removed]"
     },
     "metadata": {
      "needs_background": "light"
     },
     "output_type": "display_data"
    }
   ]
  },
  {
   "cell_type": "markdown",
   "source": [
    "We can see that for most countries, the trend goes towards more economic orientation, expect for\n",
    "Germany. The experience a steep drop to protecting the environment (closer to 1) after 2005. There\n",
    "may some interesting phenomena at this point in time.\n",
    "\n",
    "For the other countries, we only see a drop for Japan after the reactor accident in Fukushima (2011)\n",
    "occurred.\n",
    "\n",
    "There are certain Movements like 'Atomkraft:Nein' that were/are very prominent in german speaking countries. This may have an effect on this orientation.\n",
    "To further analyse this, we could also look at the values over time to get insight when/if something changes at some point."
   ],
   "metadata": {
    "id": "Nm0RvvEZvXrc"
   }
  },
  {
   "cell_type": "code",
   "source": [
    "ax = sns.lineplot(x=nuc_comp.year, y=nuc_comp.loc[nuc_comp.country == 'DEU','B008'])\n",
    "\n",
    "plt.axvline(x=2011, label=\"Fukushima Disaster\", color=\"red\", linestyle=\"--\")\n",
    "plt.text(2011.2, 1.74,'Fukushima',c=\"red\")\n",
    "\n",
    "plt.axvline(x=2005, label=\"Nuclear Phasing Out\", color=\"green\", linestyle=\"--\")\n",
    "plt.text(1998, 1.6,'Nuclear Phasing Out',c=\"green\")\n",
    "\n",
    "ax.set_title(\"Econ. Growth vs Environment Protection time-series for Germany\")\n",
    "ax.set_ylabel(\"Econ. Growth vs Environment Protection\")\n",
    "ax.set_xlabel(\"Year\");"
   ],
   "metadata": {
    "colab": {
     "base_uri": "https://localhost:8080/",
     "height": 295
    },
    "id": "6Fi0Ev5bv8z3",
    "outputId": "581cb5c8-ebcf-4d75-96bd-b36ddcc06782"
   },
   "execution_count": 343,
   "outputs": [
    {
     "data": {
      "text/plain": "<Figure size 432x288 with 1 Axes>",
      "image/png": "[encoded data removed]"
     },
     "metadata": {
      "needs_background": "light"
     },
     "output_type": "display_data"
    }
   ]
  },
  {
   "cell_type": "markdown",
   "source": [
    "We can see a pretty clear trend down towards 'Protecting environment'.\n",
    "Interestingly, this change starts at around 2005. If we research the year 2005, this is the start of the 'phasing-out' phase for nuclear energy. \n",
    "\n",
    "This was initiated by the German Green Party, which is heavily anti-nuclear energy. For reference, see this BBC article from back then: http://news.bbc.co.uk/1/hi/world/europe/4295389.stm"
   ],
   "metadata": {
    "id": "qZWHjsKwyREp"
   }
  },
  {
   "cell_type": "markdown",
   "source": [
    "# Combining with Our World in Data Energy Dataset"
   ],
   "metadata": {
    "id": "p_9p8kDUJ6O5"
   }
  },
  {
   "cell_type": "markdown",
   "source": [
    "## Preprocessing and Merging with WVS"
   ],
   "metadata": {
    "collapsed": false
   }
  },
  {
   "cell_type": "markdown",
   "source": [
    "### OWID Energy\n",
    "As a first step we will pull out all features that are relevant for\n",
    "nuclear power related to countries. These include the following:"
   ],
   "metadata": {
    "id": "NsjJ1AuLKAZQ"
   }
  },
  {
   "cell_type": "code",
   "source": [
    "nuclear_vars = [\n",
    "    'nuclear_share_elec',\n",
    "    'nuclear_cons_change_pct',\n",
    "    'nuclear_share_energy',\n",
    "    'nuclear_cons_change_twh',\n",
    "    'nuclear_consumption',\n",
    "    'nuclear_elec_per_capita',\n",
    "    'nuclear_energy_per_capita',\n",
    "    'nuclear_electricity',\n",
    "    'primary_energy_consumption'\n",
    "]\n",
    "\n",
    "identifier = [\n",
    "    'country',\n",
    "    'year',\n",
    "    'iso_code'\n",
    "]\n",
    "owid_nuc = owid.loc[:, owid.columns.isin(nuclear_vars + identifier)]\n",
    "owid_nuc = owid_nuc.set_index('country')\n",
    "owid_nuc['nuclear_comp_share_percent'] = owid_nuc[\"nuclear_consumption\"] / owid_nuc[\"primary_energy_consumption\"] * 100"
   ],
   "metadata": {
    "colab": {
     "base_uri": "https://localhost:8080/",
     "height": 455
    },
    "id": "ZyqNVXtQJ_vy",
    "outputId": "ab340f1f-ea2c-4b94-c7b2-628e27c0045d"
   },
   "execution_count": 328,
   "outputs": []
  },
  {
   "cell_type": "markdown",
   "source": [
    "There seem to be quite a few NAs in the selected data.\n",
    "We should figure out a way to sensibly remove/replace them or find out where they come from. \n",
    "\n",
    "We can find explanations for the missing data on the OWID website. They conclude that most of the missing data is either locked or non-public (I would guess the OPEC, e.g. Oil orginaisation containing the Arab Emirates, Afghanistan etc.). THey also mention lower-income countries mostly do not report their data, or the data is in bad shape (due to lacking resources in this regard would be a guess). For a more detailed report please refer to https://ourworldindata.org/energy-missing-data\n",
    "\n",
    "We also see this confirmed if we actually look at the grouped means of average\n",
    "missing values per country below:"
   ],
   "metadata": {
    "id": "WAzxKWW8LzBP"
   }
  },
  {
   "cell_type": "code",
   "source": [
    "missing_nuc_data = owid_nuc.isna().groupby('country').sum().mean(axis=1).sort_values(ascending=False)\n",
    "missing_nuc_data.head(5)"
   ],
   "metadata": {
    "colab": {
     "base_uri": "https://localhost:8080/"
    },
    "id": "RmbkKSDANi3i",
    "outputId": "1a42d4f9-9db4-4942-cba4-1994b1abdfa7"
   },
   "execution_count": 330,
   "outputs": [
    {
     "data": {
      "text/plain": "country\nYugoslavia        106.250000\nCzechoslovakia    106.166667\nOPEC              104.166667\nMiddle East        99.583333\nMyanmar            96.916667\ndtype: float64"
     },
     "execution_count": 330,
     "metadata": {},
     "output_type": "execute_result"
    }
   ]
  },
  {
   "cell_type": "markdown",
   "source": [
    "Before merging with the WVS, we should also take a look to see\n",
    "if the years, as we are going to have to aggregate them for the\n",
    "OWID set (since WVS only has time instances every 5 years)."
   ],
   "metadata": {
    "collapsed": false
   }
  },
  {
   "cell_type": "code",
   "execution_count": 331,
   "outputs": [
    {
     "data": {
      "text/plain": "<Figure size 432x288 with 1 Axes>",
      "image/png": "[encoded data removed]"
     },
     "metadata": {
      "needs_background": "light"
     },
     "output_type": "display_data"
    }
   ],
   "source": [
    "owid_years_counts = owid_nuc.year.value_counts().sort_index()\n",
    "ax = sns.lineplot(y=owid_nuc.year.value_counts().sort_index(), x=owid_years_counts.index)\n",
    "ax.set_title(\"Row count per year in OWID Energy\")\n",
    "ax.set_xlabel(\"Year\")\n",
    "ax.set_ylabel(\"Rows in Year\");"
   ],
   "metadata": {
    "collapsed": false,
    "pycharm": {
     "name": "#%%\n"
    }
   }
  },
  {
   "cell_type": "markdown",
   "source": [
    "We can see OWID Energy has data for every year, with more\n",
    "rows being available after around 1980. Since the WVS's recordings\n",
    "starts only in 1980, we won't really need the data before that\n",
    "point in time."
   ],
   "metadata": {
    "collapsed": false
   }
  },
  {
   "cell_type": "code",
   "execution_count": 332,
   "outputs": [],
   "source": [
    "owid_cut = owid_nuc.loc[owid_nuc.year >= 1980, :]"
   ],
   "metadata": {
    "collapsed": false,
    "pycharm": {
     "name": "#%%\n"
    }
   }
  },
  {
   "cell_type": "markdown",
   "source": [
    "In order to match the WVS's format, we will also proceed and average\n",
    "the values of OWID Energy over a time horizon of 5 years, starting with 1980.\n",
    "For this, we group by country and add a rolling average over 5 years for all countries.\n",
    "We then take only those year averages out that are in the range of the WVS's years, then\n",
    "add some new indices and suffixes for the columns."
   ],
   "metadata": {
    "collapsed": false
   }
  },
  {
   "cell_type": "code",
   "execution_count": 415,
   "outputs": [],
   "source": [
    "valid_years = df.year.unique()\n",
    "owid_agg = owid_cut.groupby('iso_code').rolling(5, min_periods=1).mean()\n",
    "owid_agg = owid_agg.loc[owid_agg.year.isin(valid_years), :]\n",
    "owid_agg = owid_agg.set_index('year', append=True).add_suffix(\"_avg\")"
   ],
   "metadata": {
    "collapsed": false,
    "pycharm": {
     "name": "#%%\n"
    }
   }
  },
  {
   "cell_type": "markdown",
   "source": [
    "### Imputation for NAs\n",
    "\n",
    "For this dataset the NAs come from data being not accessible or countries not having any reactors at all.\n",
    "There is a description of the issue on the OWID website for further reference. Because of this, we will just\n",
    "try to interpolate what we have per group. If a country has no values that can be interpolated (e.g. data not available),\n",
    "we drop them out. It now looks like a lot of data is dropped, but much of the data is not recorded in the first place (eg.\n",
    "poorer countries, OPEC, ...) that was not relevant anyways."
   ],
   "metadata": {
    "collapsed": false
   }
  },
  {
   "cell_type": "code",
   "execution_count": 416,
   "outputs": [],
   "source": [
    "owid_agg_cleaned = owid_agg.groupby('country').apply(lambda group: group.interpolate(method='linear', limit_direction='backward').dropna())\n",
    "owid_agg_cleaned = owid_agg_cleaned.reset_index(level=0).drop('country',axis=1)"
   ],
   "metadata": {
    "collapsed": false,
    "pycharm": {
     "name": "#%%\n"
    }
   }
  },
  {
   "cell_type": "markdown",
   "source": [
    "### Merging OWID and WVS\n",
    "\n",
    "We can finally create a merged dataframe using both the country code and year as keys.\n",
    "Since we aggregated the values beforehand, we greatly reduced the in-memory size of combined the dataframe.\n",
    "(before it was around ~4GB in memory)."
   ],
   "metadata": {
    "collapsed": false
   }
  },
  {
   "cell_type": "code",
   "source": [
    "merged_all = pd.merge(owid_agg_cleaned.reset_index(), wvs_clean_agg.reset_index(), left_on=['iso_code','year'], right_on=['country','year'])\n",
    "merged_all = merged_all.rename(columns={\"country_x\":\"country\"}).drop(\"country_y\",axis=1)\n",
    "merged_all = merged_all.set_index(['iso_code','country','year'])\n",
    "merged_all"
   ],
   "metadata": {
    "id": "xaqe3to9SDEo"
   },
   "execution_count": 423,
   "outputs": [
    {
     "data": {
      "text/plain": "                               nuclear_electricity_avg  \\\niso_code country       year                              \nARG      Argentina     1980.0                   6.5910   \n                       1990.0                   6.5910   \n                       1995.0                   7.6942   \n                       2005.0                   6.9176   \n                       2010.0                   6.5856   \n...                                                ...   \nUSA      United States 1990.0                 603.0588   \n                       1995.0                 679.4750   \n                       2005.0                 785.5782   \n                       2010.0                 794.3132   \n                       2015.0                 798.8008   \n\n                               nuclear_share_elec_avg  \\\niso_code country       year                             \nARG      Argentina     1980.0                 12.4498   \n                       1990.0                 12.4498   \n                       1995.0                 11.4548   \n                       2005.0                  6.8830   \n                       2010.0                  5.4952   \n...                                               ...   \nUSA      United States 1990.0                 19.0040   \n                       1995.0                 19.0850   \n                       2005.0                 19.5152   \n                       2010.0                 19.5270   \n                       2015.0                 19.5632   \n\n                               nuclear_cons_change_pct_avg  \\\niso_code country       year                                  \nARG      Argentina     1980.0                     -13.0760   \n                       1990.0                       3.7812   \n                       1995.0                       2.7604   \n                       2005.0                       4.8544   \n                       2010.0                      -2.6994   \n...                                                    ...   \nUSA      United States 1990.0                       6.4758   \n                       1995.0                       0.4166   \n                       2005.0                       0.0492   \n                       2010.0                      -1.5364   \n                       2015.0                       0.3130   \n\n                               nuclear_share_energy_avg  \\\niso_code country       year                               \nARG      Argentina     1980.0                    1.4120   \n                       1990.0                    3.4584   \n                       1995.0                    3.4822   \n                       2005.0                    2.6092   \n                       2010.0                    2.0868   \n...                                                 ...   \nUSA      United States 1990.0                    7.4652   \n                       1995.0                    7.7716   \n                       2005.0                    8.3402   \n                       2010.0                    8.5466   \n                       2015.0                    8.2940   \n\n                               nuclear_cons_change_twh_avg  \\\niso_code country       year                                  \nARG      Argentina     1980.0                      -0.9780   \n                       1990.0                       0.3422   \n                       1995.0                       0.4888   \n                       2005.0                       0.6616   \n                       2010.0                      -0.5558   \n...                                                    ...   \nUSA      United States 1990.0                      95.6174   \n                       1995.0                       5.7706   \n                       2005.0                       0.6696   \n                       2010.0                     -33.7800   \n                       2015.0                       6.4762   \n\n                               nuclear_consumption_avg  \\\niso_code country       year                              \nARG      Argentina     1980.0                   6.5000   \n                       1990.0                  18.3082   \n                       1995.0                  21.3728   \n                       2005.0                  20.0616   \n                       2010.0                  18.5720   \n...                                                ...   \nUSA      United States 1990.0                1675.1654   \n                       1995.0                1887.4320   \n                       2005.0                2224.2006   \n                       2010.0                2180.5082   \n                       2015.0                2127.1566   \n\n                               nuclear_elec_per_capita_avg  \\\niso_code country       year                                  \nARG      Argentina     1980.0                     201.7394   \n                       1990.0                     201.7394   \n                       1995.0                     221.0574   \n                       2005.0                     177.9578   \n                       2010.0                     161.2038   \n...                                                    ...   \nUSA      United States 1990.0                    2389.9814   \n                       1995.0                    2560.2906   \n                       2005.0                    2661.9412   \n                       2010.0                    2572.3606   \n                       2015.0                    2490.0020   \n\n                               nuclear_energy_per_capita_avg  \\\niso_code country       year                                    \nARG      Argentina     1980.0                       233.0000   \n                       1990.0                       560.3880   \n                       1995.0                       614.0488   \n                       2005.0                       516.1482   \n                       2010.0                       454.6536   \n...                                                      ...   \nUSA      United States 1990.0                      6638.8430   \n                       1995.0                      7111.9244   \n                       2005.0                      7537.6032   \n                       2010.0                      7062.2478   \n                       2015.0                      6631.2538   \n\n                               primary_energy_consumption_avg  \\\niso_code country       year                                     \nARG      Argentina     1980.0                        460.3390   \n                       1990.0                        529.9804   \n                       1995.0                        615.7848   \n                       2005.0                        774.7578   \n                       2010.0                        894.0588   \n...                                                       ...   \nUSA      United States 1990.0                      22428.1092   \n                       1995.0                      24295.1040   \n                       2005.0                      26668.0146   \n                       2010.0                      25515.2118   \n                       2015.0                      25647.0748   \n\n                               nuclear_comp_share_percent_avg   E069_11  \\\niso_code country       year                                               \nARG      Argentina     1980.0                        1.412003  2.733703   \n                       1990.0                        3.458380  2.909172   \n                       1995.0                        3.482356  3.084642   \n                       2005.0                        2.609089  2.828542   \n                       2010.0                        2.086837  2.898020   \n...                                                       ...       ...   \nUSA      United States 1990.0                        7.465415  2.618085   \n                       1995.0                        7.771755  2.741502   \n                       2005.0                        8.340295  2.680464   \n                       2010.0                        8.546411  2.782350   \n                       2015.0                        8.294048  2.923614   \n\n                                   E001      E022      E016      B008  \niso_code country       year                                            \nARG      Argentina     1980.0  1.710283  2.022752  1.575726  1.465707  \n                       1990.0  1.636917  1.880470  1.304391  1.586868  \n                       1995.0  1.919674  1.745205  1.458423  1.708029  \n                       2005.0  1.771160  1.626251  1.470352  1.306034  \n                       2010.0  1.638340  1.570008  1.563525  1.431203  \n...                                 ...       ...       ...       ...  \nUSA      United States 1990.0  1.839216  1.523643  1.506308  1.436031  \n                       1995.0  1.939033  1.650690  1.550073  1.495524  \n                       2005.0  1.802932  1.174092  1.571195  1.457403  \n                       2010.0  1.525308  1.238048  1.561844  1.619266  \n                       2015.0  1.825731  1.302004  1.510844  1.567694  \n\n[153 rows x 15 columns]",
      "text/html": "<div>\n<style scoped>\n    .dataframe tbody tr th:only-of-type {\n        vertical-align: middle;\n    }\n\n    .dataframe tbody tr th {\n        vertical-align: top;\n    }\n\n    .dataframe thead th {\n        text-align: right;\n    }\n</style>\n<table border=\"1\" class=\"dataframe\">\n  <thead>\n    <tr style=\"text-align: right;\">\n      <th></th>\n      <th></th>\n      <th></th>\n      <th>nuclear_electricity_avg</th>\n      <th>nuclear_share_elec_avg</th>\n      <th>nuclear_cons_change_pct_avg</th>\n      <th>nuclear_share_energy_avg</th>\n      <th>nuclear_cons_change_twh_avg</th>\n      <th>nuclear_consumption_avg</th>\n      <th>nuclear_elec_per_capita_avg</th>\n      <th>nuclear_energy_per_capita_avg</th>\n      <th>primary_energy_consumption_avg</th>\n      <th>nuclear_comp_share_percent_avg</th>\n      <th>E069_11</th>\n      <th>E001</th>\n      <th>E022</th>\n      <th>E016</th>\n      <th>B008</th>\n    </tr>\n    <tr>\n      <th>iso_code</th>\n      <th>country</th>\n      <th>year</th>\n      <th></th>\n      <th></th>\n      <th></th>\n      <th></th>\n      <th></th>\n      <th></th>\n      <th></th>\n      <th></th>\n      <th></th>\n      <th></th>\n      <th></th>\n      <th></th>\n      <th></th>\n      <th></th>\n      <th></th>\n    </tr>\n  </thead>\n  <tbody>\n    <tr>\n      <th rowspan=\"5\" valign=\"top\">ARG</th>\n      <th rowspan=\"5\" valign=\"top\">Argentina</th>\n      <th>1980.0</th>\n      <td>6.5910</td>\n      <td>12.4498</td>\n      <td>-13.0760</td>\n      <td>1.4120</td>\n      <td>-0.9780</td>\n      <td>6.5000</td>\n      <td>201.7394</td>\n      <td>233.0000</td>\n      <td>460.3390</td>\n      <td>1.412003</td>\n      <td>2.733703</td>\n      <td>1.710283</td>\n      <td>2.022752</td>\n      <td>1.575726</td>\n      <td>1.465707</td>\n    </tr>\n    <tr>\n      <th>1990.0</th>\n      <td>6.5910</td>\n      <td>12.4498</td>\n      <td>3.7812</td>\n      <td>3.4584</td>\n      <td>0.3422</td>\n      <td>18.3082</td>\n      <td>201.7394</td>\n      <td>560.3880</td>\n      <td>529.9804</td>\n      <td>3.458380</td>\n      <td>2.909172</td>\n      <td>1.636917</td>\n      <td>1.880470</td>\n      <td>1.304391</td>\n      <td>1.586868</td>\n    </tr>\n    <tr>\n      <th>1995.0</th>\n      <td>7.6942</td>\n      <td>11.4548</td>\n      <td>2.7604</td>\n      <td>3.4822</td>\n      <td>0.4888</td>\n      <td>21.3728</td>\n      <td>221.0574</td>\n      <td>614.0488</td>\n      <td>615.7848</td>\n      <td>3.482356</td>\n      <td>3.084642</td>\n      <td>1.919674</td>\n      <td>1.745205</td>\n      <td>1.458423</td>\n      <td>1.708029</td>\n    </tr>\n    <tr>\n      <th>2005.0</th>\n      <td>6.9176</td>\n      <td>6.8830</td>\n      <td>4.8544</td>\n      <td>2.6092</td>\n      <td>0.6616</td>\n      <td>20.0616</td>\n      <td>177.9578</td>\n      <td>516.1482</td>\n      <td>774.7578</td>\n      <td>2.609089</td>\n      <td>2.828542</td>\n      <td>1.771160</td>\n      <td>1.626251</td>\n      <td>1.470352</td>\n      <td>1.306034</td>\n    </tr>\n    <tr>\n      <th>2010.0</th>\n      <td>6.5856</td>\n      <td>5.4952</td>\n      <td>-2.6994</td>\n      <td>2.0868</td>\n      <td>-0.5558</td>\n      <td>18.5720</td>\n      <td>161.2038</td>\n      <td>454.6536</td>\n      <td>894.0588</td>\n      <td>2.086837</td>\n      <td>2.898020</td>\n      <td>1.638340</td>\n      <td>1.570008</td>\n      <td>1.563525</td>\n      <td>1.431203</td>\n    </tr>\n    <tr>\n      <th>...</th>\n      <th>...</th>\n      <th>...</th>\n      <td>...</td>\n      <td>...</td>\n      <td>...</td>\n      <td>...</td>\n      <td>...</td>\n      <td>...</td>\n      <td>...</td>\n      <td>...</td>\n      <td>...</td>\n      <td>...</td>\n      <td>...</td>\n      <td>...</td>\n      <td>...</td>\n      <td>...</td>\n      <td>...</td>\n    </tr>\n    <tr>\n      <th rowspan=\"5\" valign=\"top\">USA</th>\n      <th rowspan=\"5\" valign=\"top\">United States</th>\n      <th>1990.0</th>\n      <td>603.0588</td>\n      <td>19.0040</td>\n      <td>6.4758</td>\n      <td>7.4652</td>\n      <td>95.6174</td>\n      <td>1675.1654</td>\n      <td>2389.9814</td>\n      <td>6638.8430</td>\n      <td>22428.1092</td>\n      <td>7.465415</td>\n      <td>2.618085</td>\n      <td>1.839216</td>\n      <td>1.523643</td>\n      <td>1.506308</td>\n      <td>1.436031</td>\n    </tr>\n    <tr>\n      <th>1995.0</th>\n      <td>679.4750</td>\n      <td>19.0850</td>\n      <td>0.4166</td>\n      <td>7.7716</td>\n      <td>5.7706</td>\n      <td>1887.4320</td>\n      <td>2560.2906</td>\n      <td>7111.9244</td>\n      <td>24295.1040</td>\n      <td>7.771755</td>\n      <td>2.741502</td>\n      <td>1.939033</td>\n      <td>1.650690</td>\n      <td>1.550073</td>\n      <td>1.495524</td>\n    </tr>\n    <tr>\n      <th>2005.0</th>\n      <td>785.5782</td>\n      <td>19.5152</td>\n      <td>0.0492</td>\n      <td>8.3402</td>\n      <td>0.6696</td>\n      <td>2224.2006</td>\n      <td>2661.9412</td>\n      <td>7537.6032</td>\n      <td>26668.0146</td>\n      <td>8.340295</td>\n      <td>2.680464</td>\n      <td>1.802932</td>\n      <td>1.174092</td>\n      <td>1.571195</td>\n      <td>1.457403</td>\n    </tr>\n    <tr>\n      <th>2010.0</th>\n      <td>794.3132</td>\n      <td>19.5270</td>\n      <td>-1.5364</td>\n      <td>8.5466</td>\n      <td>-33.7800</td>\n      <td>2180.5082</td>\n      <td>2572.3606</td>\n      <td>7062.2478</td>\n      <td>25515.2118</td>\n      <td>8.546411</td>\n      <td>2.782350</td>\n      <td>1.525308</td>\n      <td>1.238048</td>\n      <td>1.561844</td>\n      <td>1.619266</td>\n    </tr>\n    <tr>\n      <th>2015.0</th>\n      <td>798.8008</td>\n      <td>19.5632</td>\n      <td>0.3130</td>\n      <td>8.2940</td>\n      <td>6.4762</td>\n      <td>2127.1566</td>\n      <td>2490.0020</td>\n      <td>6631.2538</td>\n      <td>25647.0748</td>\n      <td>8.294048</td>\n      <td>2.923614</td>\n      <td>1.825731</td>\n      <td>1.302004</td>\n      <td>1.510844</td>\n      <td>1.567694</td>\n    </tr>\n  </tbody>\n</table>\n<p>153 rows × 15 columns</p>\n</div>"
     },
     "execution_count": 423,
     "metadata": {},
     "output_type": "execute_result"
    }
   ]
  },
  {
   "cell_type": "markdown",
   "source": [
    "## Correlations\n",
    "\n",
    "We could now try to find correlations between the nuclear energy and the country characteristics of the world value survey.\n",
    "For this purpose, we will select the feature-subsets (A,B, ...) from the WVS and compute their correlations to the OWID's\n",
    "nuclear features.\n",
    "\n",
    "To make selection and model analysis a bit easier, we define a few helping function that compute the correlations\n",
    "and significant correlations for us. If we find significant variables in a subset, we can always get more details."
   ],
   "metadata": {
    "id": "v4uB1UZdYSkm"
   }
  },
  {
   "cell_type": "code",
   "source": [
    "def create_merged_feature_subset(feature_letter):\n",
    "    characteristics = [col for col in merged_all if col.startswith(feature_letter)]\n",
    "    owid_merged_characteristics = merged_all.loc[:, merged_all.columns.isin(owid_agg.columns.tolist() + characteristics)]\n",
    "    corrs = owid_merged_characteristics.corr()\n",
    "    return owid_merged_characteristics, corrs\n",
    "\n",
    "def evaluate_correlation_matrix(corr_matrix, label):\n",
    "    filtered_corrs = filter_correlation_by_owid_features(corr_matrix)\n",
    "    is_subset_significant = np.abs(filtered_corrs) >= 0.7\n",
    "    characteristics_significant_count = is_subset_significant.sum().sum()\n",
    "    print(f\"Amount of significant correlations between WVS {label} features and nuclear energy features: {characteristics_significant_count}\")\n",
    "\n",
    "def draw_nuclear_heatmap(corrs, label):\n",
    "    filtered_corrs = filter_correlation_by_owid_features(corrs)\n",
    "    plt.figure(figsize=(15,4))\n",
    "    ax = sns.heatmap(filtered_corrs)\n",
    "    ax.set_title(f\"Significant correlation of {label} and Nuclear Energy Features\");\n",
    "\n",
    "def filter_correlation_by_owid_features(corr):\n",
    "    owid_features = owid_agg.columns.tolist()\n",
    "    return corr.loc[corr.index.isin(owid_features), ~corr.columns.isin(owid_features)]\n",
    "\n",
    "def analyse_correlation_for_subset(feature_symbol, label):\n",
    "    subset, sub_corr = create_merged_feature_subset(feature_symbol)\n",
    "    draw_nuclear_heatmap(sub_corr, label)\n",
    "    evaluate_correlation_matrix(sub_corr, label)\n",
    "    return subset, sub_corr"
   ],
   "metadata": {
    "id": "uNbQ3AwOiDY7"
   },
   "execution_count": 87,
   "outputs": []
  },
  {
   "cell_type": "markdown",
   "source": [
    "# TODO: Add this part again ..."
   ],
   "metadata": {
    "collapsed": false
   }
  },
  {
   "cell_type": "markdown",
   "source": [
    "## Testing using ML and feature selection\n",
    "\n",
    "Since we found no significant direct correlation between any of the characteristics of the world value survey (1981-2021), another idea would be to try to predict some of the nuclear variables using machine learning. There may a not a single characterstic that is good enough to 'predict' the nuclear energy features like we tested before, but a combination of multiple.\n",
    "\n",
    "For this reason we could apply a regression algorithm and feature selection on the merged data to see if any combination of features gives us the ability to predict the nuclear features. \n",
    "\n",
    "For sake of simplicity, we are first going to start using linear methods like Lasso or Ridge Regression that do regression with built in feature-selection. To get the benefits of both methods, we are going to use ElasticNet and search for fitting parameters using GridSearch."
   ],
   "metadata": {
    "id": "Wh7u1gOUeGzU"
   }
  },
  {
   "cell_type": "markdown",
   "source": [
    "### ElasticNet Model"
   ],
   "metadata": {
    "collapsed": false
   }
  },
  {
   "cell_type": "code",
   "execution_count": 424,
   "outputs": [
    {
     "data": {
      "text/plain": "ElasticNetCV(cv=5, random_state=0)"
     },
     "execution_count": 424,
     "metadata": {},
     "output_type": "execute_result"
    }
   ],
   "source": [
    "target = merged_all.loc[:, 'nuclear_comp_share_percent_avg']\n",
    "features = merged_all.drop('nuclear_comp_share_percent_avg', axis=1)\n",
    "features = features.loc[:,~features.columns.str.startswith('nuclear')]\n",
    "features = features.drop('primary_energy_consumption_avg', axis=1)\n",
    "\n",
    "X_train, X_test, y_train, y_test = train_test_split(features, target)\n",
    "\n",
    "regressor = ElasticNetCV(cv=5, random_state=0)\n",
    "regressor.fit(X_train, y_train)"
   ],
   "metadata": {
    "collapsed": false,
    "pycharm": {
     "name": "#%%\n"
    }
   }
  },
  {
   "cell_type": "code",
   "execution_count": 425,
   "outputs": [
    {
     "name": "stdout",
     "output_type": "stream",
     "text": [
      "RMSE: 56.03405775734091\n"
     ]
    },
    {
     "data": {
      "text/plain": "<Figure size 432x288 with 1 Axes>",
      "image/png": "[encoded data removed]"
     },
     "metadata": {
      "needs_background": "light"
     },
     "output_type": "display_data"
    }
   ],
   "source": [
    "def evaluate_model(model, xtest, ytest):\n",
    "    predictions = model.predict(xtest)\n",
    "    ax = sns.scatterplot(x=(ytest - ytest.mean())/ ytest.std(), y=(predictions - predictions.mean())/ predictions.std())\n",
    "    ax.axline((0,0),(1,1),c=\"red\")\n",
    "    ax.set_title(\"Prediction of Nuclear Consumption Share Percent\")\n",
    "    ax.set_xlabel(\"True Values Zscore\")\n",
    "    ax.set_ylabel(\"Predictions Zscore\")\n",
    "    ax.set(xlim=(-4,4))\n",
    "    ax.set(ylim=(-4,4))\n",
    "    print(f\"RMSE: {mean_squared_error(y_test, predictions)}\")\n",
    "\n",
    "evaluate_model(regressor, X_test, y_test)"
   ],
   "metadata": {
    "collapsed": false,
    "pycharm": {
     "name": "#%%\n"
    }
   }
  },
  {
   "cell_type": "markdown",
   "source": [
    "The predictions don't seem very good. Most of them are on\n",
    "show systematic differences from the optimal line between\n",
    "predictions and true values. We see quite a few outliers everywhere.\n",
    "\n",
    "We could now also look at which variables were selected by ElasticNet:"
   ],
   "metadata": {
    "collapsed": false
   }
  },
  {
   "cell_type": "code",
   "execution_count": 429,
   "outputs": [
    {
     "name": "stdout",
     "output_type": "stream",
     "text": [
      "B008       10.497849\n",
      "E016        7.185875\n",
      "E069_11     5.518731\n",
      "E001        2.472035\n",
      "E022        0.550037\n",
      "dtype: float64\n"
     ]
    }
   ],
   "source": [
    "def get_sorted_coefficients(model, trainingset, n=10):\n",
    "    coefs = pd.Series(model.coef_)\n",
    "    coefs.index = trainingset.columns\n",
    "    print(coefs.abs().sort_values(ascending=False).head(n))\n",
    "\n",
    "get_sorted_coefficients(regressor, X_train)"
   ],
   "metadata": {
    "collapsed": false,
    "pycharm": {
     "name": "#%%\n"
    }
   }
  },
  {
   "cell_type": "markdown",
   "source": [
    "But, as we expected from previous analysis, B008 (Economy vs Environment) is the\n",
    "model's largest coefficient, directing the predictions. Even though the predictions\n",
    "are not very good, we can see that this feature seems to be a driving factor for using\n",
    "nuclear energy."
   ],
   "metadata": {
    "collapsed": false,
    "pycharm": {
     "name": "#%% md\n"
    }
   }
  }
 ]
}