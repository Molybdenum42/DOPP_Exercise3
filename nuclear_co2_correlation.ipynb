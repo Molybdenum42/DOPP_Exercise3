{
 "cells": [
  {
   "cell_type": "code",
   "execution_count": 129,
   "metadata": {
    "collapsed": true
   },
   "outputs": [],
   "source": [
    "import pandas as pd\n",
    "import numpy as np\n",
    "import matplotlib.pyplot as plt"
   ]
  },
  {
   "cell_type": "code",
   "execution_count": 14,
   "outputs": [
    {
     "name": "stdout",
     "output_type": "stream",
     "text": [
      "World          121\n",
      "Peru           121\n",
      "Romania        121\n",
      "Colombia       121\n",
      "Pakistan       121\n",
      "              ... \n",
      "Palestine       23\n",
      "South Sudan     21\n",
      "Kosovo          20\n",
      "Montenegro      20\n",
      "Timor           14\n",
      "Name: country, Length: 242, dtype: int64\n",
      "Index(['iso_code', 'country', 'year', 'coal_prod_change_pct',\n",
      "       'coal_prod_change_twh', 'gas_prod_change_pct', 'gas_prod_change_twh',\n",
      "       'oil_prod_change_pct', 'oil_prod_change_twh', 'energy_cons_change_pct',\n",
      "       ...\n",
      "       'solar_elec_per_capita', 'solar_energy_per_capita', 'gdp',\n",
      "       'wind_share_elec', 'wind_cons_change_pct', 'wind_share_energy',\n",
      "       'wind_cons_change_twh', 'wind_consumption', 'wind_elec_per_capita',\n",
      "       'wind_energy_per_capita'],\n",
      "      dtype='object', length=122)\n"
     ]
    }
   ],
   "source": [
    "df_energy = pd.read_csv(\"data/OWID_energy/owid-energy-data.csv\")\n",
    "print(df_energy[\"country\"].value_counts())\n",
    "print(df_energy.columns)"
   ],
   "metadata": {
    "collapsed": false,
    "pycharm": {
     "name": "#%%\n"
    }
   }
  },
  {
   "cell_type": "code",
   "execution_count": 13,
   "outputs": [
    {
     "name": "stdout",
     "output_type": "stream",
     "text": [
      "World                   271\n",
      "United Kingdom          271\n",
      "EU-28                   271\n",
      "Europe (excl. EU-27)    271\n",
      "Europe                  271\n",
      "                       ... \n",
      "Micronesia (country)     29\n",
      "Micronesia               27\n",
      "Wallis and Futuna        20\n",
      "Timor                    19\n",
      "Kosovo                   13\n",
      "Name: country, Length: 244, dtype: int64\n",
      "Index(['iso_code', 'country', 'year', 'co2', 'consumption_co2',\n",
      "       'co2_growth_prct', 'co2_growth_abs', 'trade_co2', 'co2_per_capita',\n",
      "       'consumption_co2_per_capita', 'share_global_co2', 'cumulative_co2',\n",
      "       'share_global_cumulative_co2', 'co2_per_gdp', 'consumption_co2_per_gdp',\n",
      "       'co2_per_unit_energy', 'coal_co2', 'cement_co2', 'flaring_co2',\n",
      "       'gas_co2', 'oil_co2', 'other_industry_co2', 'cement_co2_per_capita',\n",
      "       'coal_co2_per_capita', 'flaring_co2_per_capita', 'gas_co2_per_capita',\n",
      "       'oil_co2_per_capita', 'other_co2_per_capita', 'trade_co2_share',\n",
      "       'share_global_cement_co2', 'share_global_coal_co2',\n",
      "       'share_global_flaring_co2', 'share_global_gas_co2',\n",
      "       'share_global_oil_co2', 'share_global_other_co2',\n",
      "       'cumulative_cement_co2', 'cumulative_coal_co2',\n",
      "       'cumulative_flaring_co2', 'cumulative_gas_co2', 'cumulative_oil_co2',\n",
      "       'cumulative_other_co2', 'share_global_cumulative_cement_co2',\n",
      "       'share_global_cumulative_coal_co2',\n",
      "       'share_global_cumulative_flaring_co2',\n",
      "       'share_global_cumulative_gas_co2', 'share_global_cumulative_oil_co2',\n",
      "       'share_global_cumulative_other_co2', 'total_ghg', 'ghg_per_capita',\n",
      "       'methane', 'methane_per_capita', 'nitrous_oxide',\n",
      "       'nitrous_oxide_per_capita', 'population', 'gdp',\n",
      "       'primary_energy_consumption', 'energy_per_capita', 'energy_per_gdp'],\n",
      "      dtype='object')\n"
     ]
    }
   ],
   "source": [
    "df_co2 = pd.read_csv(\"data/OWID_CO2/owid-co2-data.csv\")\n",
    "print(df_co2[\"country\"].value_counts())\n",
    "print(df_co2.columns)"
   ],
   "metadata": {
    "collapsed": false,
    "pycharm": {
     "name": "#%%\n"
    }
   }
  },
  {
   "cell_type": "code",
   "execution_count": 75,
   "outputs": [],
   "source": [
    "relevant_energy = df_energy[[\"iso_code\", \"country\", \"year\",\n",
    "                             \"gdp\", \"population\",\n",
    "                             \"primary_energy_consumption\", \"electricity_generation\",\n",
    "                             \"energy_per_gdp\", \"energy_per_capita\",\n",
    "                             \"nuclear_electricity\", \"nuclear_share_elec\",\n",
    "                             \"nuclear_consumption\", \"nuclear_share_energy\"]]\n",
    "relevant_co2 = df_co2[[\"iso_code\", \"country\", \"year\",\n",
    "                       \"population\", \"gdp\", \"primary_energy_consumption\",\n",
    "                       \"co2\", \"methane\", \"total_ghg\"]]\n",
    "\n",
    "joined = relevant_energy.join(\n",
    "    relevant_co2.set_index([\"iso_code\", \"country\", \"year\"]),\n",
    "    on = [\"iso_code\", \"country\", \"year\"], rsuffix = \"_co2\", lsuffix = \"_energy\"\n",
    ").set_index([\"iso_code\", \"country\", \"year\"])"
   ],
   "metadata": {
    "collapsed": false,
    "pycharm": {
     "name": "#%%\n"
    }
   }
  },
  {
   "cell_type": "code",
   "execution_count": 76,
   "outputs": [
    {
     "name": "stdout",
     "output_type": "stream",
     "text": [
      "Index(['Africa', 'American Samoa', 'Antigua and Barbuda', 'Aruba',\n",
      "       'Asia Pacific', 'Bahamas', 'Belize', 'Bermuda', 'Bhutan',\n",
      "       'British Virgin Islands', 'Brunei', 'CIS', 'Cayman Islands',\n",
      "       'Central America', 'Cook Islands', 'Czechoslovakia', 'Eastern Africa',\n",
      "       'Eritrea', 'Europe', 'Europe (other)', 'Faeroe Islands',\n",
      "       'Falkland Islands ', 'Fiji', 'French Guiana', 'French Polynesia',\n",
      "       'Gibraltar', 'Greenland', 'Grenada', 'Guadeloupe', 'Guam', 'Guyana',\n",
      "       'Kiribati', 'Kosovo', 'Macau', 'Maldives', 'Martinique',\n",
      "       'Middle Africa', 'Middle East', 'Montserrat', 'Nauru',\n",
      "       'Netherlands Antilles', 'New Caledonia', 'Niue', 'North America',\n",
      "       'Northern Mariana Islands', 'OPEC', 'Other Asia & Pacific', 'Other CIS',\n",
      "       'Other Caribbean', 'Other Middle East', 'Other Northern Africa',\n",
      "       'Other South America', 'Other Southern Africa', 'Papua New Guinea',\n",
      "       'Reunion', 'Saint Helena', 'Saint Kitts and Nevis',\n",
      "       'Saint Pierre and Miquelon', 'Saint Vincent and the Grenadines',\n",
      "       'Samoa', 'Solomon Islands', 'Somalia', 'South & Central America',\n",
      "       'South Sudan', 'Suriname', 'Timor', 'Tonga', 'Turks and Caicos Islands',\n",
      "       'USSR', 'United States Pacific Islands', 'United States Virgin Islands',\n",
      "       'Vanuatu', 'Western Africa', 'Western Sahara', 'Yugoslavia'],\n",
      "      dtype='object', name='country')\n",
      "country\n",
      "United States    0.000099\n",
      "Belarus          0.000221\n",
      "Switzerland      0.000451\n",
      "Slovenia         0.001054\n",
      "Saudi Arabia     0.001086\n",
      "                   ...   \n",
      "Moldova          0.209961\n",
      "Mozambique       0.255707\n",
      "Libya            0.281306\n",
      "Syria            0.321737\n",
      "Liberia          0.560581\n",
      "Name: gdp_energy, Length: 167, dtype: float64\n"
     ]
    }
   ],
   "source": [
    "value_exists = joined[joined[\"co2\"].notna()].groupby([\"iso_code\", \"year\"]).count()\n",
    "(value_exists == 0).sum()\n",
    "\n",
    "comparevals = [\"gdp\", \"population\", \"primary_energy_consumption\"]\n",
    "energy_vals = [x+\"_energy\" for x in comparevals]\n",
    "co2_vals = [x+\"_co2\" for x in comparevals]\n",
    "\n",
    "val_diffs = (joined[energy_vals] - joined[co2_vals].values)[joined[\"primary_energy_consumption_energy\"].notna()]\n",
    "mean_diff = val_diffs.groupby(\"country\").mean()\n",
    "max_vals = joined[joined[\"primary_energy_consumption_energy\"].notna()][energy_vals].groupby(\"country\").max() * 100\n",
    "\n",
    "relative_diff = mean_diff / max_vals.loc[mean_diff.index] * 100\n",
    "print(relative_diff[\"gdp_energy\"][relative_diff[\"gdp_energy\"].isna()].index)\n",
    "\n",
    "print(relative_diff[\"gdp_energy\"].dropna().abs().sort_values())\n",
    "\n",
    "# while the values for GDP as well as population differ somewhat between the two datasets, these differences are relatively small.\n",
    "# For lack of a better option, the differences will remain reconciled, and the data from the Energy dataset considered\n",
    "# authorative, as it also forms the basis for all other considerations in this project.\n",
    "\n",
    "df = joined[energy_vals +\n",
    "            [x for x in relevant_energy.columns if x not in comparevals and x not in joined.index.names] +\n",
    "            [x for x in relevant_co2.columns if x not in comparevals and x not in joined.index.names]]\n",
    "df.columns = comparevals + list(df.columns[3:])"
   ],
   "metadata": {
    "collapsed": false,
    "pycharm": {
     "name": "#%%\n"
    }
   }
  },
  {
   "cell_type": "code",
   "execution_count": 83,
   "outputs": [
    {
     "name": "stderr",
     "output_type": "stream",
     "text": [
      "<ipython-input-83-e28abbb1bb62>:5: SettingWithCopyWarning: \n",
      "A value is trying to be set on a copy of a slice from a DataFrame.\n",
      "Try using .loc[row_indexer,col_indexer] = value instead\n",
      "\n",
      "See the caveats in the documentation: https://pandas.pydata.org/pandas-docs/stable/user_guide/indexing.html#returning-a-view-versus-a-copy\n",
      "  data[\"co2_per_capita\"] = df[\"co2\"] / df[\"population\"]\n",
      "<ipython-input-83-e28abbb1bb62>:6: SettingWithCopyWarning: \n",
      "A value is trying to be set on a copy of a slice from a DataFrame.\n",
      "Try using .loc[row_indexer,col_indexer] = value instead\n",
      "\n",
      "See the caveats in the documentation: https://pandas.pydata.org/pandas-docs/stable/user_guide/indexing.html#returning-a-view-versus-a-copy\n",
      "  data[\"co2_per_gdp\"] = df[\"co2\"] / df[\"gdp\"]\n",
      "<ipython-input-83-e28abbb1bb62>:7: SettingWithCopyWarning: \n",
      "A value is trying to be set on a copy of a slice from a DataFrame.\n",
      "Try using .loc[row_indexer,col_indexer] = value instead\n",
      "\n",
      "See the caveats in the documentation: https://pandas.pydata.org/pandas-docs/stable/user_guide/indexing.html#returning-a-view-versus-a-copy\n",
      "  data[\"total_ghg_per_capita\"] = df[\"total_ghg\"] / df[\"population\"]\n",
      "<ipython-input-83-e28abbb1bb62>:8: SettingWithCopyWarning: \n",
      "A value is trying to be set on a copy of a slice from a DataFrame.\n",
      "Try using .loc[row_indexer,col_indexer] = value instead\n",
      "\n",
      "See the caveats in the documentation: https://pandas.pydata.org/pandas-docs/stable/user_guide/indexing.html#returning-a-view-versus-a-copy\n",
      "  data[\"total_ghg_per_gdp\"] = df[\"total_ghg\"] / df[\"gdp\"]\n"
     ]
    }
   ],
   "source": [
    "data = df[[\"population\", \"gdp\", \"co2\", \"total_ghg\",\n",
    "           \"primary_energy_consumption\", \"electricity_generation\",\n",
    "           \"nuclear_consumption\", \"nuclear_electricity\"]]\n",
    "\n",
    "data[\"co2_per_capita\"] = df[\"co2\"] / df[\"population\"]\n",
    "data[\"co2_per_gdp\"] = df[\"co2\"] / df[\"gdp\"]\n",
    "data[\"total_ghg_per_capita\"] = df[\"total_ghg\"] / df[\"population\"]\n",
    "data[\"total_ghg_per_gdp\"] = df[\"total_ghg\"] / df[\"gdp\"]\n",
    "data[\"energy_per_capita\"] = df[\"primary_energy_consumption\"] / df[\"population\"]\n",
    "data[\"energy_per_gdp\"] = df[\"primary_energy_consumption\"] / df[\"gdp\"]\n",
    "data[\"electricity_per_capita\"] = df[\"electricity_generation\"] / df[\"population\"]\n",
    "data[\"electricity_per_gdp\"] = df[\"electricity_generation\"] / df[\"gdp\"]\n",
    "\n",
    "data[\"nuclear_consumption_per_capita\"] = df[\"nuclear_consumption\"] / df[\"population\"]\n",
    "data[\"nuclear_consumption_per_gdp\"] = df[\"nuclear_consumption\"] / df[\"gdp\"]\n",
    "data[\"nuclear_electricity_per_capita\"] = df[\"nuclear_electricity\"] / df[\"population\"]\n",
    "data[\"nuclear_electricity_per_gdp\"] = df[\"nuclear_electricity\"] / df[\"gdp\"]\n",
    "\n",
    "data[\"nuclear_energy_share\"] = df[\"nuclear_consumption\"] / df[\"primary_energy_consumption\"]\n",
    "data[\"nuclear_electricity_share\"] = df[\"nuclear_electricity\"] / df[\"electricity_generation\"]"
   ],
   "metadata": {
    "collapsed": false,
    "pycharm": {
     "name": "#%%\n"
    }
   }
  },
  {
   "cell_type": "code",
   "execution_count": 127,
   "outputs": [
    {
     "data": {
      "text/plain": "                         total_nuclear_energy  total_energy  \\\niso_code country                                              \nKAZ      Kazakhstan                     6.913     23264.028   \nIRN      Iran                         101.331     68665.291   \nITA      Italy                        249.701     96912.559   \nCHN      China                       5963.849    742644.728   \nBRA      Brazil                       805.832     97896.846   \nNLD      Netherlands                  479.724     49581.065   \nIND      India                       1762.044    182071.683   \nMEX      Mexico                       715.345     71764.386   \nPAK      Pakistan                     228.372     22064.271   \nROU      Romania                      525.204     28400.284   \nZAF      South Africa                1092.549     54407.505   \nARG      Argentina                    735.173     33732.490   \nRUS      Russia                     13581.983    359606.131   \nOWID_WRL World                     250138.960   5500334.304   \nCAN      Canada                      9278.311    164125.631   \nUSA      United States              77709.220   1248242.833   \nCZE      Czechia                     1824.261     29271.017   \nGBR      United Kingdom              8906.873    135854.212   \nDEU      Germany                    14869.455    213440.670   \nJPN      Japan                      21509.437    266010.147   \nHUN      Hungary                     1322.219     15328.092   \nESP      Spain                       5574.894     63883.451   \nTWN      Taiwan                      3611.546     39231.298   \nKOR      South Korea                 9926.082     84930.047   \nUKR      Ukraine                     7331.371     62166.236   \nBGR      Bulgaria                    1707.317     13706.616   \nBEL      Belgium                     4464.082     34874.966   \nSVK      Slovakia                    1412.440     10818.475   \nFIN      Finland                     2282.210     15991.652   \nCHE      Switzerland                 2732.465     16956.811   \nSVN      Slovenia                     425.566      2360.125   \nSWE      Sweden                      7096.877     32671.592   \nLTU      Lithuania                    830.025      3716.774   \nFRA      France                     38524.194    138694.718   \n\n                         lifetime_nuclear_share  \niso_code country                                 \nKAZ      Kazakhstan                    0.000297  \nIRN      Iran                          0.001476  \nITA      Italy                         0.002577  \nCHN      China                         0.008031  \nBRA      Brazil                        0.008231  \nNLD      Netherlands                   0.009676  \nIND      India                         0.009678  \nMEX      Mexico                        0.009968  \nPAK      Pakistan                      0.010350  \nROU      Romania                       0.018493  \nZAF      South Africa                  0.020081  \nARG      Argentina                     0.021794  \nRUS      Russia                        0.037769  \nOWID_WRL World                         0.045477  \nCAN      Canada                        0.056532  \nUSA      United States                 0.062255  \nCZE      Czechia                       0.062323  \nGBR      United Kingdom                0.065562  \nDEU      Germany                       0.069666  \nJPN      Japan                         0.080859  \nHUN      Hungary                       0.086261  \nESP      Spain                         0.087267  \nTWN      Taiwan                        0.092058  \nKOR      South Korea                   0.116874  \nUKR      Ukraine                       0.117932  \nBGR      Bulgaria                      0.124562  \nBEL      Belgium                       0.128002  \nSVK      Slovakia                      0.130558  \nFIN      Finland                       0.142713  \nCHE      Switzerland                   0.161143  \nSVN      Slovenia                      0.180315  \nSWE      Sweden                        0.217219  \nLTU      Lithuania                     0.223319  \nFRA      France                        0.277763  ",
      "text/html": "<div>\n<style scoped>\n    .dataframe tbody tr th:only-of-type {\n        vertical-align: middle;\n    }\n\n    .dataframe tbody tr th {\n        vertical-align: top;\n    }\n\n    .dataframe thead th {\n        text-align: right;\n    }\n</style>\n<table border=\"1\" class=\"dataframe\">\n  <thead>\n    <tr style=\"text-align: right;\">\n      <th></th>\n      <th></th>\n      <th>total_nuclear_energy</th>\n      <th>total_energy</th>\n      <th>lifetime_nuclear_share</th>\n    </tr>\n    <tr>\n      <th>iso_code</th>\n      <th>country</th>\n      <th></th>\n      <th></th>\n      <th></th>\n    </tr>\n  </thead>\n  <tbody>\n    <tr>\n      <th>KAZ</th>\n      <th>Kazakhstan</th>\n      <td>6.913</td>\n      <td>23264.028</td>\n      <td>0.000297</td>\n    </tr>\n    <tr>\n      <th>IRN</th>\n      <th>Iran</th>\n      <td>101.331</td>\n      <td>68665.291</td>\n      <td>0.001476</td>\n    </tr>\n    <tr>\n      <th>ITA</th>\n      <th>Italy</th>\n      <td>249.701</td>\n      <td>96912.559</td>\n      <td>0.002577</td>\n    </tr>\n    <tr>\n      <th>CHN</th>\n      <th>China</th>\n      <td>5963.849</td>\n      <td>742644.728</td>\n      <td>0.008031</td>\n    </tr>\n    <tr>\n      <th>BRA</th>\n      <th>Brazil</th>\n      <td>805.832</td>\n      <td>97896.846</td>\n      <td>0.008231</td>\n    </tr>\n    <tr>\n      <th>NLD</th>\n      <th>Netherlands</th>\n      <td>479.724</td>\n      <td>49581.065</td>\n      <td>0.009676</td>\n    </tr>\n    <tr>\n      <th>IND</th>\n      <th>India</th>\n      <td>1762.044</td>\n      <td>182071.683</td>\n      <td>0.009678</td>\n    </tr>\n    <tr>\n      <th>MEX</th>\n      <th>Mexico</th>\n      <td>715.345</td>\n      <td>71764.386</td>\n      <td>0.009968</td>\n    </tr>\n    <tr>\n      <th>PAK</th>\n      <th>Pakistan</th>\n      <td>228.372</td>\n      <td>22064.271</td>\n      <td>0.010350</td>\n    </tr>\n    <tr>\n      <th>ROU</th>\n      <th>Romania</th>\n      <td>525.204</td>\n      <td>28400.284</td>\n      <td>0.018493</td>\n    </tr>\n    <tr>\n      <th>ZAF</th>\n      <th>South Africa</th>\n      <td>1092.549</td>\n      <td>54407.505</td>\n      <td>0.020081</td>\n    </tr>\n    <tr>\n      <th>ARG</th>\n      <th>Argentina</th>\n      <td>735.173</td>\n      <td>33732.490</td>\n      <td>0.021794</td>\n    </tr>\n    <tr>\n      <th>RUS</th>\n      <th>Russia</th>\n      <td>13581.983</td>\n      <td>359606.131</td>\n      <td>0.037769</td>\n    </tr>\n    <tr>\n      <th>OWID_WRL</th>\n      <th>World</th>\n      <td>250138.960</td>\n      <td>5500334.304</td>\n      <td>0.045477</td>\n    </tr>\n    <tr>\n      <th>CAN</th>\n      <th>Canada</th>\n      <td>9278.311</td>\n      <td>164125.631</td>\n      <td>0.056532</td>\n    </tr>\n    <tr>\n      <th>USA</th>\n      <th>United States</th>\n      <td>77709.220</td>\n      <td>1248242.833</td>\n      <td>0.062255</td>\n    </tr>\n    <tr>\n      <th>CZE</th>\n      <th>Czechia</th>\n      <td>1824.261</td>\n      <td>29271.017</td>\n      <td>0.062323</td>\n    </tr>\n    <tr>\n      <th>GBR</th>\n      <th>United Kingdom</th>\n      <td>8906.873</td>\n      <td>135854.212</td>\n      <td>0.065562</td>\n    </tr>\n    <tr>\n      <th>DEU</th>\n      <th>Germany</th>\n      <td>14869.455</td>\n      <td>213440.670</td>\n      <td>0.069666</td>\n    </tr>\n    <tr>\n      <th>JPN</th>\n      <th>Japan</th>\n      <td>21509.437</td>\n      <td>266010.147</td>\n      <td>0.080859</td>\n    </tr>\n    <tr>\n      <th>HUN</th>\n      <th>Hungary</th>\n      <td>1322.219</td>\n      <td>15328.092</td>\n      <td>0.086261</td>\n    </tr>\n    <tr>\n      <th>ESP</th>\n      <th>Spain</th>\n      <td>5574.894</td>\n      <td>63883.451</td>\n      <td>0.087267</td>\n    </tr>\n    <tr>\n      <th>TWN</th>\n      <th>Taiwan</th>\n      <td>3611.546</td>\n      <td>39231.298</td>\n      <td>0.092058</td>\n    </tr>\n    <tr>\n      <th>KOR</th>\n      <th>South Korea</th>\n      <td>9926.082</td>\n      <td>84930.047</td>\n      <td>0.116874</td>\n    </tr>\n    <tr>\n      <th>UKR</th>\n      <th>Ukraine</th>\n      <td>7331.371</td>\n      <td>62166.236</td>\n      <td>0.117932</td>\n    </tr>\n    <tr>\n      <th>BGR</th>\n      <th>Bulgaria</th>\n      <td>1707.317</td>\n      <td>13706.616</td>\n      <td>0.124562</td>\n    </tr>\n    <tr>\n      <th>BEL</th>\n      <th>Belgium</th>\n      <td>4464.082</td>\n      <td>34874.966</td>\n      <td>0.128002</td>\n    </tr>\n    <tr>\n      <th>SVK</th>\n      <th>Slovakia</th>\n      <td>1412.440</td>\n      <td>10818.475</td>\n      <td>0.130558</td>\n    </tr>\n    <tr>\n      <th>FIN</th>\n      <th>Finland</th>\n      <td>2282.210</td>\n      <td>15991.652</td>\n      <td>0.142713</td>\n    </tr>\n    <tr>\n      <th>CHE</th>\n      <th>Switzerland</th>\n      <td>2732.465</td>\n      <td>16956.811</td>\n      <td>0.161143</td>\n    </tr>\n    <tr>\n      <th>SVN</th>\n      <th>Slovenia</th>\n      <td>425.566</td>\n      <td>2360.125</td>\n      <td>0.180315</td>\n    </tr>\n    <tr>\n      <th>SWE</th>\n      <th>Sweden</th>\n      <td>7096.877</td>\n      <td>32671.592</td>\n      <td>0.217219</td>\n    </tr>\n    <tr>\n      <th>LTU</th>\n      <th>Lithuania</th>\n      <td>830.025</td>\n      <td>3716.774</td>\n      <td>0.223319</td>\n    </tr>\n    <tr>\n      <th>FRA</th>\n      <th>France</th>\n      <td>38524.194</td>\n      <td>138694.718</td>\n      <td>0.277763</td>\n    </tr>\n  </tbody>\n</table>\n</div>"
     },
     "execution_count": 127,
     "metadata": {},
     "output_type": "execute_result"
    }
   ],
   "source": [
    "nuclear_countries = data[data[\"nuclear_consumption\"] > 0].groupby([\"iso_code\", \"country\"]).any().index\n",
    "country_info = pd.DataFrame(index=nuclear_countries)\n",
    "total_nuclear_energy = data[\"nuclear_consumption\"].reset_index().groupby([\"iso_code\",\"country\"]).sum().drop(\"year\", axis=1)\n",
    "country_info[\"total_nuclear_energy\"] = total_nuclear_energy.loc[country_info.index]\n",
    "total_energy = data[\"primary_energy_consumption\"].reset_index().groupby([\"iso_code\",\"country\"]).sum().drop(\"year\", axis=1)\n",
    "country_info[\"total_energy\"] = total_energy.loc[country_info.index]\n",
    "country_info[\"lifetime_nuclear_share\"] = country_info[\"total_nuclear_energy\"] / country_info[\"total_energy\"]\n",
    "\n",
    "country_info.sort_values(by=\"lifetime_nuclear_share\")"
   ],
   "metadata": {
    "collapsed": false,
    "pycharm": {
     "name": "#%%\n"
    }
   }
  },
  {
   "cell_type": "code",
   "execution_count": 140,
   "outputs": [
    {
     "name": "stderr",
     "output_type": "stream",
     "text": [
      "<ipython-input-140-54dcc1116d71>:1: PerformanceWarning: indexing past lexsort depth may impact performance.\n",
      "  france = data.loc[(\"FRA\", \"France\")]\n"
     ]
    },
    {
     "data": {
      "text/plain": "<AxesSubplot:xlabel='year'>"
     },
     "execution_count": 140,
     "metadata": {},
     "output_type": "execute_result"
    },
    {
     "data": {
      "text/plain": "<Figure size 432x288 with 1 Axes>",
      "image/png": "[encoded data removed]"
     },
     "metadata": {
      "needs_background": "light"
     },
     "output_type": "display_data"
    }
   ],
   "source": [
    "france = data.loc[(\"FRA\", \"France\")]\n",
    "france[[\"primary_energy_consumption\", \"nuclear_consumption\", \"co2\"]].dropna(how=\"any\", axis=0).plot()"
   ],
   "metadata": {
    "collapsed": false,
    "pycharm": {
     "name": "#%%\n"
    }
   }
  }
 ],
 "metadata": {
  "kernelspec": {
   "display_name": "Python 3",
   "language": "python",
   "name": "python3"
  },
  "language_info": {
   "codemirror_mode": {
    "name": "ipython",
    "version": 2
   },
   "file_extension": ".py",
   "mimetype": "text/x-python",
   "name": "python",
   "nbconvert_exporter": "python",
   "pygments_lexer": "ipython2",
   "version": "2.7.6"
  }
 },
 "nbformat": 4,
 "nbformat_minor": 0
}